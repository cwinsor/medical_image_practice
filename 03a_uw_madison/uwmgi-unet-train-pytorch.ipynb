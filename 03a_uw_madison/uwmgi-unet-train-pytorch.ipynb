{
 "cells": [
  {
   "cell_type": "markdown",
   "id": "4ceee971",
   "metadata": {
    "papermill": {
     "duration": 0.035903,
     "end_time": "2022-04-27T16:58:39.930463",
     "exception": false,
     "start_time": "2022-04-27T16:58:39.894560",
     "status": "completed"
    },
    "tags": []
   },
   "source": [
    "# [UW-Madison GI Tract Image Segmentation](https://www.kaggle.com/competitions/uw-madison-gi-tract-image-segmentation/)\n",
    "> Track healthy organs in medical scans to improve cancer treatment\n",
    "\n",
    "<img src=\"https://storage.googleapis.com/kaggle-competitions/kaggle/27923/logos/header.png?t=2021-06-02-20-30-25\">"
   ]
  },
  {
   "cell_type": "markdown",
   "id": "795be69a",
   "metadata": {
    "papermill": {
     "duration": 0.033056,
     "end_time": "2022-04-27T16:58:39.996641",
     "exception": false,
     "start_time": "2022-04-27T16:58:39.963585",
     "status": "completed"
    },
    "tags": []
   },
   "source": [
    "# ⚽ Methodlogy\n",
    "* In this notebook I'll demonstrate how to train **Unet** model using PyTorch.\n",
    "* For mask I'll be using pre-computed mask from [here](https://www.kaggle.com/datasets/awsaf49/uwmgi-mask-dataset)\n",
    "* As there are overlaps between **Stomach**, **Large Bowel** & **Small Bowel** classes, this is a **MultiLabel Segmentation** task, so final activaion should be `sigmoid` instead of `softmax`.\n",
    "* For data split I'll be using **StratifiedGroupFold** to avoid data leakage due to `case` and to stratify `empty` and `non-empty` mask cases.\n",
    "* You can play with different models and losses."
   ]
  },
  {
   "cell_type": "markdown",
   "id": "481af02a",
   "metadata": {
    "papermill": {
     "duration": 0.032845,
     "end_time": "2022-04-27T16:58:40.063163",
     "exception": false,
     "start_time": "2022-04-27T16:58:40.030318",
     "status": "completed"
    },
    "tags": []
   },
   "source": [
    "## Please Upvote if you Find this Useful :)"
   ]
  },
  {
   "cell_type": "markdown",
   "id": "66804384",
   "metadata": {
    "papermill": {
     "duration": 0.033825,
     "end_time": "2022-04-27T16:58:40.130051",
     "exception": false,
     "start_time": "2022-04-27T16:58:40.096226",
     "status": "completed"
    },
    "tags": []
   },
   "source": [
    "# 📒 Notebooks\n",
    "📌 **UNet**:\n",
    "* Train: [UWMGI: Unet [Train] [PyTorch]](https://www.kaggle.com/code/awsaf49/uwmgi-unet-train-pytorch/)\n",
    "* Infer: [UWMGI: Unet [Infer] [PyTorch]](https://www.kaggle.com/code/awsaf49/uwmgi-unet-infer-pytorch/)\n",
    "\n",
    "📌 **Data/Dataset**:\n",
    "* Data: [UWMGI: Mask Data](https://www.kaggle.com/datasets/awsaf49/uwmgi-mask-data)\n",
    "* Dataset: [UWMGI: Mask Dataset](https://www.kaggle.com/datasets/awsaf49/uwmgi-mask-dataset)"
   ]
  },
  {
   "cell_type": "markdown",
   "id": "1312a675",
   "metadata": {
    "papermill": {
     "duration": 0.033416,
     "end_time": "2022-04-27T16:58:40.196580",
     "exception": false,
     "start_time": "2022-04-27T16:58:40.163164",
     "status": "completed"
    },
    "tags": []
   },
   "source": [
    "# 🛠 Install Libraries"
   ]
  },
  {
   "cell_type": "code",
   "execution_count": 1,
   "id": "e94e1a6f",
   "metadata": {
    "execution": {
     "iopub.execute_input": "2022-04-27T16:58:40.274899Z",
     "iopub.status.busy": "2022-04-27T16:58:40.274147Z",
     "iopub.status.idle": "2022-04-27T16:59:15.234843Z",
     "shell.execute_reply": "2022-04-27T16:59:15.234222Z",
     "shell.execute_reply.started": "2022-04-24T22:33:56.942006Z"
    },
    "papermill": {
     "duration": 35.005384,
     "end_time": "2022-04-27T16:59:15.235015",
     "exception": false,
     "start_time": "2022-04-27T16:58:40.229631",
     "status": "completed"
    },
    "tags": []
   },
   "outputs": [],
   "source": [
    "# !pip install -q segmentation_models_pytorch\n",
    "# !pip install -qU wandb\n",
    "# !pip install -q scikit-learn==1.0"
   ]
  },
  {
   "cell_type": "markdown",
   "id": "e8150261",
   "metadata": {
    "papermill": {
     "duration": 0.034955,
     "end_time": "2022-04-27T16:59:15.305459",
     "exception": false,
     "start_time": "2022-04-27T16:59:15.270504",
     "status": "completed"
    },
    "tags": []
   },
   "source": [
    "# 📚 Import Libraries "
   ]
  },
  {
   "cell_type": "code",
   "execution_count": 2,
   "id": "31c92d5e",
   "metadata": {
    "execution": {
     "iopub.execute_input": "2022-04-27T16:59:15.382565Z",
     "iopub.status.busy": "2022-04-27T16:59:15.381729Z",
     "iopub.status.idle": "2022-04-27T16:59:15.420499Z",
     "shell.execute_reply": "2022-04-27T16:59:15.420052Z",
     "shell.execute_reply.started": "2022-04-24T22:34:36.117594Z"
    },
    "papermill": {
     "duration": 0.079718,
     "end_time": "2022-04-27T16:59:15.420620",
     "exception": false,
     "start_time": "2022-04-27T16:59:15.340902",
     "status": "completed"
    },
    "tags": []
   },
   "outputs": [],
   "source": [
    "%load_ext autoreload\n",
    "%autoreload 2"
   ]
  },
  {
   "cell_type": "code",
   "execution_count": 3,
   "id": "f8c56450",
   "metadata": {
    "_kg_hide-input": false,
    "execution": {
     "iopub.execute_input": "2022-04-27T16:59:15.497251Z",
     "iopub.status.busy": "2022-04-27T16:59:15.496440Z",
     "iopub.status.idle": "2022-04-27T16:59:23.844910Z",
     "shell.execute_reply": "2022-04-27T16:59:23.845393Z",
     "shell.execute_reply.started": "2022-04-24T22:34:36.166397Z"
    },
    "papermill": {
     "duration": 8.390258,
     "end_time": "2022-04-27T16:59:23.845572",
     "exception": false,
     "start_time": "2022-04-27T16:59:15.455314",
     "status": "completed"
    },
    "tags": []
   },
   "outputs": [
    {
     "name": "stderr",
     "output_type": "stream",
     "text": [
      "c:\\Users\\chris\\anaconda3\\envs\\pytorch_f_cuda_11_7_umadison\\lib\\site-packages\\tqdm\\auto.py:21: TqdmWarning: IProgress not found. Please update jupyter and ipywidgets. See https://ipywidgets.readthedocs.io/en/stable/user_install.html\n",
      "  from .autonotebook import tqdm as notebook_tqdm\n"
     ]
    }
   ],
   "source": [
    "import numpy as np\n",
    "import pandas as pd\n",
    "pd.options.plotting.backend = \"plotly\"\n",
    "import random\n",
    "from glob import glob\n",
    "import os, shutil\n",
    "from tqdm import tqdm\n",
    "tqdm.pandas()\n",
    "import time\n",
    "import copy\n",
    "import joblib\n",
    "from collections import defaultdict\n",
    "import gc\n",
    "from IPython import display as ipd\n",
    "\n",
    "# visualization\n",
    "import cv2\n",
    "import matplotlib.pyplot as plt\n",
    "from matplotlib.patches import Rectangle\n",
    "\n",
    "# Sklearn\n",
    "from sklearn.model_selection import StratifiedKFold, KFold, StratifiedGroupKFold\n",
    "\n",
    "# PyTorch \n",
    "import torch\n",
    "import torch.nn as nn\n",
    "import torch.optim as optim\n",
    "from torch.optim import lr_scheduler\n",
    "from torch.utils.data import Dataset, DataLoader\n",
    "from torch.cuda import amp\n",
    "\n",
    "import timm\n",
    "\n",
    "# Albumentations for augmentations\n",
    "import albumentations as A\n",
    "from albumentations.pytorch import ToTensorV2\n",
    "\n",
    "# import rasterio\n",
    "from joblib import Parallel, delayed\n",
    "\n",
    "# For colored terminal text\n",
    "from colorama import Fore, Back, Style\n",
    "c_  = Fore.GREEN\n",
    "sr_ = Style.RESET_ALL\n",
    "\n",
    "import warnings\n",
    "warnings.filterwarnings(\"ignore\")\n",
    "\n",
    "# For descriptive error messages\n",
    "os.environ['CUDA_LAUNCH_BLOCKING'] = \"1\""
   ]
  },
  {
   "cell_type": "markdown",
   "id": "fd8fd2cb",
   "metadata": {
    "papermill": {
     "duration": 0.034523,
     "end_time": "2022-04-27T16:59:23.914864",
     "exception": false,
     "start_time": "2022-04-27T16:59:23.880341",
     "status": "completed"
    },
    "tags": []
   },
   "source": [
    "# ⭐ WandB\n",
    "\n",
    "<img src=\"https://camo.githubusercontent.com/dd842f7b0be57140e68b2ab9cb007992acd131c48284eaf6b1aca758bfea358b/68747470733a2f2f692e696d6775722e636f6d2f52557469567a482e706e67\" width=\"400\" alt=\"Weights & Biases\" />\n",
    "\n",
    "Weights & Biases (W&B) is MLOps platform for tracking our experiemnts. We can use it to Build better models faster with experiment tracking, dataset versioning, and model management. Some of the cool features of **W&B**:\n",
    "\n",
    "* Track, compare, and visualize ML experiments\n",
    "* Get live metrics, terminal logs, and system stats streamed to the centralized dashboard.\n",
    "* Explain how your model works, show graphs of how model versions improved, discuss bugs, and demonstrate progress towards milestones."
   ]
  },
  {
   "cell_type": "code",
   "execution_count": 4,
   "id": "ef763bce",
   "metadata": {
    "execution": {
     "iopub.execute_input": "2022-04-27T16:59:23.988898Z",
     "iopub.status.busy": "2022-04-27T16:59:23.988084Z",
     "iopub.status.idle": "2022-04-27T16:59:25.006328Z",
     "shell.execute_reply": "2022-04-27T16:59:25.005392Z",
     "shell.execute_reply.started": "2022-04-24T22:34:44.730259Z"
    },
    "papermill": {
     "duration": 1.057244,
     "end_time": "2022-04-27T16:59:25.006481",
     "exception": false,
     "start_time": "2022-04-27T16:59:23.949237",
     "status": "completed"
    },
    "tags": []
   },
   "outputs": [
    {
     "name": "stderr",
     "output_type": "stream",
     "text": [
      "Failed to detect the name of this notebook, you can set it manually with the WANDB_NOTEBOOK_NAME environment variable to enable code saving.\n",
      "\u001b[34m\u001b[1mwandb\u001b[0m: Currently logged in as: \u001b[33mcwinsor\u001b[0m. Use \u001b[1m`wandb login --relogin`\u001b[0m to force relogin\n"
     ]
    },
    {
     "data": {
      "text/plain": [
       "True"
      ]
     },
     "execution_count": 4,
     "metadata": {},
     "output_type": "execute_result"
    }
   ],
   "source": [
    "import wandb\n",
    "\n",
    "wandb.login()\n",
    "\n",
    "# try:\n",
    "#     from kaggle_secrets import UserSecretsClient\n",
    "#     user_secrets = UserSecretsClient()\n",
    "#     api_key = user_secrets.get_secret(\"WANDB\")\n",
    "#     wandb.login(key=api_key)\n",
    "#     anonymous = None\n",
    "# except:\n",
    "#     anonymous = \"must\"\n",
    "#     print('To use your W&B account,\\nGo to Add-ons -> Secrets and provide your W&B access token. Use the Label name as WANDB. \\nGet your W&B access token from here: https://wandb.ai/authorize')"
   ]
  },
  {
   "cell_type": "markdown",
   "id": "d7600cdf",
   "metadata": {
    "papermill": {
     "duration": 0.036065,
     "end_time": "2022-04-27T16:59:25.079407",
     "exception": false,
     "start_time": "2022-04-27T16:59:25.043342",
     "status": "completed"
    },
    "tags": []
   },
   "source": [
    "# ⚙️ Configuration "
   ]
  },
  {
   "cell_type": "code",
   "execution_count": 5,
   "id": "9816eecf",
   "metadata": {
    "execution": {
     "iopub.execute_input": "2022-04-27T16:59:25.158020Z",
     "iopub.status.busy": "2022-04-27T16:59:25.157196Z",
     "iopub.status.idle": "2022-04-27T16:59:25.280420Z",
     "shell.execute_reply": "2022-04-27T16:59:25.279873Z",
     "shell.execute_reply.started": "2022-04-24T22:34:46.959258Z"
    },
    "papermill": {
     "duration": 0.165491,
     "end_time": "2022-04-27T16:59:25.280560",
     "exception": false,
     "start_time": "2022-04-27T16:59:25.115069",
     "status": "completed"
    },
    "tags": []
   },
   "outputs": [],
   "source": [
    "class CFG:\n",
    "    seed          = 101\n",
    "    debug         = False # set debug=False for Full Training\n",
    "    exp_name      = 'Baselinev2'\n",
    "    comment       = 'unet-efficientnet_b1-224x224-aug2-split2'\n",
    "    model_name    = 'Unet'\n",
    "    backbone      = 'efficientnet-b1'\n",
    "    # zona originally train_bs=128\n",
    "    train_bs      = 64\n",
    "    valid_bs      = train_bs*2\n",
    "    img_size      = [224, 224]\n",
    "    epochs        = 15\n",
    "    lr            = 2e-3\n",
    "    scheduler     = 'CosineAnnealingLR'\n",
    "    min_lr        = 1e-6\n",
    "    T_max         = int(30000/train_bs*epochs)+50\n",
    "    T_0           = 25\n",
    "    warmup_epochs = 0\n",
    "    wd            = 1e-6\n",
    "    n_accumulate  = max(1, 32//train_bs)\n",
    "    n_fold        = 5\n",
    "    num_classes   = 3\n",
    "    device        = torch.device(\"cuda:0\" if torch.cuda.is_available() else \"cpu\")\n"
   ]
  },
  {
   "cell_type": "markdown",
   "id": "8525cb53",
   "metadata": {
    "papermill": {
     "duration": 0.035609,
     "end_time": "2022-04-27T16:59:25.351522",
     "exception": false,
     "start_time": "2022-04-27T16:59:25.315913",
     "status": "completed"
    },
    "tags": []
   },
   "source": [
    "# ❗ Reproducibility"
   ]
  },
  {
   "cell_type": "code",
   "execution_count": 6,
   "id": "4d5bb0a3",
   "metadata": {
    "execution": {
     "iopub.execute_input": "2022-04-27T16:59:25.457091Z",
     "iopub.status.busy": "2022-04-27T16:59:25.456140Z",
     "iopub.status.idle": "2022-04-27T16:59:25.558816Z",
     "shell.execute_reply": "2022-04-27T16:59:25.557770Z",
     "shell.execute_reply.started": "2022-04-24T22:34:47.079797Z"
    },
    "papermill": {
     "duration": 0.17289,
     "end_time": "2022-04-27T16:59:25.558985",
     "exception": false,
     "start_time": "2022-04-27T16:59:25.386095",
     "status": "completed"
    },
    "tags": []
   },
   "outputs": [
    {
     "name": "stdout",
     "output_type": "stream",
     "text": [
      "> SEEDING DONE\n"
     ]
    }
   ],
   "source": [
    "def set_seed(seed = 42):\n",
    "    '''Sets the seed of the entire notebook so results are the same every time we run.\n",
    "    This is for REPRODUCIBILITY.'''\n",
    "    np.random.seed(seed)\n",
    "    random.seed(seed)\n",
    "    torch.manual_seed(seed)\n",
    "    torch.cuda.manual_seed(seed)\n",
    "    # When running on the CuDNN backend, two further options must be set\n",
    "    torch.backends.cudnn.deterministic = True\n",
    "    torch.backends.cudnn.benchmark = False\n",
    "    # Set a fixed value for the hash seed\n",
    "    os.environ['PYTHONHASHSEED'] = str(seed)\n",
    "    print('> SEEDING DONE')\n",
    "    \n",
    "set_seed(CFG.seed)"
   ]
  },
  {
   "cell_type": "markdown",
   "id": "e555c653",
   "metadata": {
    "papermill": {
     "duration": 0.057992,
     "end_time": "2022-04-27T16:59:25.680265",
     "exception": false,
     "start_time": "2022-04-27T16:59:25.622273",
     "status": "completed"
    },
    "tags": []
   },
   "source": [
    "# 📖 Meta Data\n",
    "\n",
    "* Files\n",
    "    * train.csv - IDs and masks for all training objects.\n",
    "    * sample_submission.csv - a sample submission file in the correct format\n",
    "    * train - a folder of case/day folders, each containing slice images for a particular case on a given day.\n",
    "\n",
    "> Note that the image filenames include 4 numbers (ex. `276_276_1.63_1.63.png`). These four numbers are slice height / width (integers in pixels) and heigh/width pixel spacing (floating points in mm). The first two defines the resolution of the slide. The last two record the physical size of each pixel.\n",
    "\n",
    "* Columns\n",
    "    * id - unique identifier for object\n",
    "    * class - the predicted class for the object\n",
    "    * EncodedPixels - RLE-encoded pixels for the identified object"
   ]
  },
  {
   "cell_type": "code",
   "execution_count": 7,
   "id": "abbaed82",
   "metadata": {
    "execution": {
     "iopub.execute_input": "2022-04-27T16:59:25.803550Z",
     "iopub.status.busy": "2022-04-27T16:59:25.802704Z",
     "iopub.status.idle": "2022-04-27T16:59:25.891287Z",
     "shell.execute_reply": "2022-04-27T16:59:25.892108Z",
     "shell.execute_reply.started": "2022-04-24T22:34:47.152969Z"
    },
    "papermill": {
     "duration": 0.154556,
     "end_time": "2022-04-27T16:59:25.892268",
     "exception": false,
     "start_time": "2022-04-27T16:59:25.737712",
     "status": "completed"
    },
    "tags": []
   },
   "outputs": [],
   "source": [
    "# BASE_PATH  = '/kaggle/input/uw-madison-gi-tract-image-segmentation'"
   ]
  },
  {
   "cell_type": "code",
   "execution_count": 8,
   "id": "0e0c9dc7",
   "metadata": {},
   "outputs": [
    {
     "data": {
      "text/html": [
       "<div>\n",
       "<style scoped>\n",
       "    .dataframe tbody tr th:only-of-type {\n",
       "        vertical-align: middle;\n",
       "    }\n",
       "\n",
       "    .dataframe tbody tr th {\n",
       "        vertical-align: top;\n",
       "    }\n",
       "\n",
       "    .dataframe thead th {\n",
       "        text-align: right;\n",
       "    }\n",
       "</style>\n",
       "<table border=\"1\" class=\"dataframe\">\n",
       "  <thead>\n",
       "    <tr style=\"text-align: right;\">\n",
       "      <th></th>\n",
       "      <th>id</th>\n",
       "      <th>case</th>\n",
       "      <th>day</th>\n",
       "      <th>slice</th>\n",
       "      <th>image_path</th>\n",
       "      <th>height</th>\n",
       "      <th>width</th>\n",
       "      <th>mask_path</th>\n",
       "      <th>segmentation</th>\n",
       "      <th>rle_len</th>\n",
       "      <th>empty</th>\n",
       "    </tr>\n",
       "  </thead>\n",
       "  <tbody>\n",
       "    <tr>\n",
       "      <th>0</th>\n",
       "      <td>case123_day20_slice_0001</td>\n",
       "      <td>123</td>\n",
       "      <td>20</td>\n",
       "      <td>1</td>\n",
       "      <td>/kaggle/input/uw-madison-gi-tract-image-segmen...</td>\n",
       "      <td>266</td>\n",
       "      <td>266</td>\n",
       "      <td>/kaggle/input/uwmgi-mask-dataset/png//uw-madis...</td>\n",
       "      <td>[, , ]</td>\n",
       "      <td>0</td>\n",
       "      <td>True</td>\n",
       "    </tr>\n",
       "    <tr>\n",
       "      <th>1</th>\n",
       "      <td>case123_day20_slice_0002</td>\n",
       "      <td>123</td>\n",
       "      <td>20</td>\n",
       "      <td>2</td>\n",
       "      <td>/kaggle/input/uw-madison-gi-tract-image-segmen...</td>\n",
       "      <td>266</td>\n",
       "      <td>266</td>\n",
       "      <td>/kaggle/input/uwmgi-mask-dataset/png//uw-madis...</td>\n",
       "      <td>[, , ]</td>\n",
       "      <td>0</td>\n",
       "      <td>True</td>\n",
       "    </tr>\n",
       "    <tr>\n",
       "      <th>2</th>\n",
       "      <td>case123_day20_slice_0003</td>\n",
       "      <td>123</td>\n",
       "      <td>20</td>\n",
       "      <td>3</td>\n",
       "      <td>/kaggle/input/uw-madison-gi-tract-image-segmen...</td>\n",
       "      <td>266</td>\n",
       "      <td>266</td>\n",
       "      <td>/kaggle/input/uwmgi-mask-dataset/png//uw-madis...</td>\n",
       "      <td>[, , ]</td>\n",
       "      <td>0</td>\n",
       "      <td>True</td>\n",
       "    </tr>\n",
       "    <tr>\n",
       "      <th>3</th>\n",
       "      <td>case123_day20_slice_0004</td>\n",
       "      <td>123</td>\n",
       "      <td>20</td>\n",
       "      <td>4</td>\n",
       "      <td>/kaggle/input/uw-madison-gi-tract-image-segmen...</td>\n",
       "      <td>266</td>\n",
       "      <td>266</td>\n",
       "      <td>/kaggle/input/uwmgi-mask-dataset/png//uw-madis...</td>\n",
       "      <td>[, , ]</td>\n",
       "      <td>0</td>\n",
       "      <td>True</td>\n",
       "    </tr>\n",
       "    <tr>\n",
       "      <th>4</th>\n",
       "      <td>case123_day20_slice_0005</td>\n",
       "      <td>123</td>\n",
       "      <td>20</td>\n",
       "      <td>5</td>\n",
       "      <td>/kaggle/input/uw-madison-gi-tract-image-segmen...</td>\n",
       "      <td>266</td>\n",
       "      <td>266</td>\n",
       "      <td>/kaggle/input/uwmgi-mask-dataset/png//uw-madis...</td>\n",
       "      <td>[, , ]</td>\n",
       "      <td>0</td>\n",
       "      <td>True</td>\n",
       "    </tr>\n",
       "  </tbody>\n",
       "</table>\n",
       "</div>"
      ],
      "text/plain": [
       "                         id  case  day  slice  \\\n",
       "0  case123_day20_slice_0001   123   20      1   \n",
       "1  case123_day20_slice_0002   123   20      2   \n",
       "2  case123_day20_slice_0003   123   20      3   \n",
       "3  case123_day20_slice_0004   123   20      4   \n",
       "4  case123_day20_slice_0005   123   20      5   \n",
       "\n",
       "                                          image_path  height  width  \\\n",
       "0  /kaggle/input/uw-madison-gi-tract-image-segmen...     266    266   \n",
       "1  /kaggle/input/uw-madison-gi-tract-image-segmen...     266    266   \n",
       "2  /kaggle/input/uw-madison-gi-tract-image-segmen...     266    266   \n",
       "3  /kaggle/input/uw-madison-gi-tract-image-segmen...     266    266   \n",
       "4  /kaggle/input/uw-madison-gi-tract-image-segmen...     266    266   \n",
       "\n",
       "                                           mask_path segmentation  rle_len  \\\n",
       "0  /kaggle/input/uwmgi-mask-dataset/png//uw-madis...       [, , ]        0   \n",
       "1  /kaggle/input/uwmgi-mask-dataset/png//uw-madis...       [, , ]        0   \n",
       "2  /kaggle/input/uwmgi-mask-dataset/png//uw-madis...       [, , ]        0   \n",
       "3  /kaggle/input/uwmgi-mask-dataset/png//uw-madis...       [, , ]        0   \n",
       "4  /kaggle/input/uwmgi-mask-dataset/png//uw-madis...       [, , ]        0   \n",
       "\n",
       "   empty  \n",
       "0   True  \n",
       "1   True  \n",
       "2   True  \n",
       "3   True  \n",
       "4   True  "
      ]
     },
     "execution_count": 8,
     "metadata": {},
     "output_type": "execute_result"
    }
   ],
   "source": [
    "#linux df = pd.read_csv('/mnt/d/code_medimg_practice/medical_image_practice/03a_uw_madison/archive/train.csv')\n",
    "df = pd.read_csv('D:\\\\code_medimg_practice\\\\medical_image_practice\\\\03a_uw_madison\\\\archive\\\\train.csv')\n",
    "df['segmentation'] = df.segmentation.fillna('')\n",
    "df['rle_len'] = df.segmentation.map(len) # length of each rle mask\n",
    "#linux df['mask_path'] = df.mask_path.str.replace('/png/','/np/').str.replace('.png','.npy')\n",
    "df['mask_path'] = df.mask_path.str.replace('\\\\png\\\\','\\\\np\\\\').str.replace('.png','.npy')\n",
    "\n",
    "df2 = df.groupby(['id'])['segmentation'].agg(list).to_frame().reset_index() # rle list of each id\n",
    "df2 = df2.merge(df.groupby(['id'])['rle_len'].agg(sum).to_frame().reset_index()) # total length of all rles of each id\n",
    "\n",
    "df = df.drop(columns=['segmentation', 'class', 'rle_len'])\n",
    "df = df.groupby(['id']).head(1).reset_index(drop=True)\n",
    "df = df.merge(df2, on=['id'])\n",
    "df['empty'] = (df.rle_len==0) # empty masks\n",
    "df.head()"
   ]
  },
  {
   "cell_type": "code",
   "execution_count": 9,
   "id": "1125cdfa",
   "metadata": {},
   "outputs": [
    {
     "name": "stdout",
     "output_type": "stream",
     "text": [
      "/kaggle/input/uw-madison-gi-tract-image-segmentation/train/case123/case123_day20/scans/slice_0001_266_266_1.50_1.50.png\n",
      "/kaggle/input/uwmgi-mask-dataset/png//uw-madison-gi-tract-image-segmentation/train/case123/case123_day20/scans/slice_0001_266_266_1.50_1.50.npy\n",
      "D:\\code_medimg_practice\\medical_image_practice\\03a_uw_madison\\archive\\png\\uw-madison-gi-tract-image-segmentation/train/case123/case123_day20/scans/slice_0001_266_266_1.50_1.50.png\n",
      "D:\\code_medimg_practice\\medical_image_practice\\03a_uw_madison\\archive\\np\\uw-madison-gi-tract-image-segmentation/train/case123/case123_day20/scans/slice_0001_266_266_1.50_1.50.npy\n"
     ]
    }
   ],
   "source": [
    "print(df.loc[0,'image_path'])\n",
    "print(df.loc[0,'mask_path'])\n",
    "\n",
    "# linux BASE_PATH = '/mnt/d/code_medimg_practice/medical_image_practice/03a_uw_madison/archive/png/uw-madison-gi-tract-image-segmentation'\n",
    "BASE_PATH = 'D:\\\\code_medimg_practice\\\\medical_image_practice\\\\03a_uw_madison\\\\archive\\\\png\\\\uw-madison-gi-tract-image-segmentation'\n",
    "df['image_path'] = df['image_path'].map(lambda x: BASE_PATH + x.split('uw-madison-gi-tract-image-segmentation')[1])\n",
    "\n",
    "# linux BASE_PATH = '/mnt/d/code_medimg_practice/medical_image_practice/03a_uw_madison/archive/np/uw-madison-gi-tract-image-segmentation'\n",
    "BASE_PATH = 'D:\\\\code_medimg_practice\\\\medical_image_practice\\\\03a_uw_madison\\\\archive\\\\np\\\\uw-madison-gi-tract-image-segmentation'\n",
    "df['mask_path'] = df['mask_path'].map(lambda x: BASE_PATH + x.split('uw-madison-gi-tract-image-segmentation')[1])\n",
    "\n",
    "print(df.loc[0,'image_path'])\n",
    "print(df.loc[0,'mask_path'])"
   ]
  },
  {
   "cell_type": "code",
   "execution_count": 10,
   "id": "37f5cf48",
   "metadata": {
    "execution": {
     "iopub.execute_input": "2022-04-27T16:59:26.011026Z",
     "iopub.status.busy": "2022-04-27T16:59:26.010209Z",
     "iopub.status.idle": "2022-04-27T16:59:28.934397Z",
     "shell.execute_reply": "2022-04-27T16:59:28.933887Z",
     "shell.execute_reply.started": "2022-04-24T22:35:40.190996Z"
    },
    "papermill": {
     "duration": 2.984146,
     "end_time": "2022-04-27T16:59:28.934529",
     "exception": false,
     "start_time": "2022-04-27T16:59:25.950383",
     "status": "completed"
    },
    "tags": []
   },
   "outputs": [],
   "source": [
    "# # df = pd.read_csv('../input/uwmgi-mask-dataset/train.csv')\n",
    "# df = pd.read_csv('/mnt/d/code_medimg_practice/medical_image_practice/03a_uw_madison/archive/train.csv')\n",
    "# df['segmentation'] = df.segmentation.fillna('')\n",
    "# df['rle_len'] = df.segmentation.map(len) # length of each rle mask\n",
    "# df['mask_path'] = df.mask_path.str.replace('/png/','/np/').str.replace('.png','.npy')\n",
    "\n",
    "# df2 = df.groupby(['id'])['segmentation'].agg(list).to_frame().reset_index() # rle list of each id\n",
    "# df2 = df2.merge(df.groupby(['id'])['rle_len'].agg(sum).to_frame().reset_index()) # total length of all rles of each id\n",
    "\n",
    "# df = df.drop(columns=['segmentation', 'class', 'rle_len'])\n",
    "# df = df.groupby(['id']).head(1).reset_index(drop=True)\n",
    "# df = df.merge(df2, on=['id'])\n",
    "# df['empty'] = (df.rle_len==0) # empty masks\n",
    "# df.head()"
   ]
  },
  {
   "cell_type": "markdown",
   "id": "df2c2650",
   "metadata": {
    "papermill": {
     "duration": 0.037471,
     "end_time": "2022-04-27T16:59:29.008777",
     "exception": false,
     "start_time": "2022-04-27T16:59:28.971306",
     "status": "completed"
    },
    "tags": []
   },
   "source": [
    "## Class Distribution"
   ]
  },
  {
   "cell_type": "code",
   "execution_count": 11,
   "id": "32cac569",
   "metadata": {
    "execution": {
     "iopub.execute_input": "2022-04-27T16:59:29.085462Z",
     "iopub.status.busy": "2022-04-27T16:59:29.084655Z",
     "iopub.status.idle": "2022-04-27T16:59:31.573916Z",
     "shell.execute_reply": "2022-04-27T16:59:31.573382Z",
     "shell.execute_reply.started": "2022-04-24T22:35:10.151245Z"
    },
    "papermill": {
     "duration": 2.529187,
     "end_time": "2022-04-27T16:59:31.574068",
     "exception": false,
     "start_time": "2022-04-27T16:59:29.044881",
     "status": "completed"
    },
    "tags": []
   },
   "outputs": [
    {
     "data": {
      "application/vnd.plotly.v1+json": {
       "config": {
        "plotlyServerURL": "https://plot.ly"
       },
       "data": [
        {
         "alignmentgroup": "True",
         "hovertemplate": "variable=count<br>empty=%{x}<br>value=%{y}<extra></extra>",
         "legendgroup": "count",
         "marker": {
          "color": "#636efa",
          "pattern": {
           "shape": ""
          }
         },
         "name": "count",
         "offsetgroup": "count",
         "orientation": "v",
         "showlegend": true,
         "textposition": "auto",
         "type": "bar",
         "x": [
          true,
          false
         ],
         "xaxis": "x",
         "y": [
          21906,
          16590
         ],
         "yaxis": "y"
        }
       ],
       "layout": {
        "barmode": "relative",
        "legend": {
         "title": {
          "text": "variable"
         },
         "tracegroupgap": 0
        },
        "margin": {
         "t": 60
        },
        "template": {
         "data": {
          "bar": [
           {
            "error_x": {
             "color": "#2a3f5f"
            },
            "error_y": {
             "color": "#2a3f5f"
            },
            "marker": {
             "line": {
              "color": "#E5ECF6",
              "width": 0.5
             },
             "pattern": {
              "fillmode": "overlay",
              "size": 10,
              "solidity": 0.2
             }
            },
            "type": "bar"
           }
          ],
          "barpolar": [
           {
            "marker": {
             "line": {
              "color": "#E5ECF6",
              "width": 0.5
             },
             "pattern": {
              "fillmode": "overlay",
              "size": 10,
              "solidity": 0.2
             }
            },
            "type": "barpolar"
           }
          ],
          "carpet": [
           {
            "aaxis": {
             "endlinecolor": "#2a3f5f",
             "gridcolor": "white",
             "linecolor": "white",
             "minorgridcolor": "white",
             "startlinecolor": "#2a3f5f"
            },
            "baxis": {
             "endlinecolor": "#2a3f5f",
             "gridcolor": "white",
             "linecolor": "white",
             "minorgridcolor": "white",
             "startlinecolor": "#2a3f5f"
            },
            "type": "carpet"
           }
          ],
          "choropleth": [
           {
            "colorbar": {
             "outlinewidth": 0,
             "ticks": ""
            },
            "type": "choropleth"
           }
          ],
          "contour": [
           {
            "colorbar": {
             "outlinewidth": 0,
             "ticks": ""
            },
            "colorscale": [
             [
              0,
              "#0d0887"
             ],
             [
              0.1111111111111111,
              "#46039f"
             ],
             [
              0.2222222222222222,
              "#7201a8"
             ],
             [
              0.3333333333333333,
              "#9c179e"
             ],
             [
              0.4444444444444444,
              "#bd3786"
             ],
             [
              0.5555555555555556,
              "#d8576b"
             ],
             [
              0.6666666666666666,
              "#ed7953"
             ],
             [
              0.7777777777777778,
              "#fb9f3a"
             ],
             [
              0.8888888888888888,
              "#fdca26"
             ],
             [
              1,
              "#f0f921"
             ]
            ],
            "type": "contour"
           }
          ],
          "contourcarpet": [
           {
            "colorbar": {
             "outlinewidth": 0,
             "ticks": ""
            },
            "type": "contourcarpet"
           }
          ],
          "heatmap": [
           {
            "colorbar": {
             "outlinewidth": 0,
             "ticks": ""
            },
            "colorscale": [
             [
              0,
              "#0d0887"
             ],
             [
              0.1111111111111111,
              "#46039f"
             ],
             [
              0.2222222222222222,
              "#7201a8"
             ],
             [
              0.3333333333333333,
              "#9c179e"
             ],
             [
              0.4444444444444444,
              "#bd3786"
             ],
             [
              0.5555555555555556,
              "#d8576b"
             ],
             [
              0.6666666666666666,
              "#ed7953"
             ],
             [
              0.7777777777777778,
              "#fb9f3a"
             ],
             [
              0.8888888888888888,
              "#fdca26"
             ],
             [
              1,
              "#f0f921"
             ]
            ],
            "type": "heatmap"
           }
          ],
          "heatmapgl": [
           {
            "colorbar": {
             "outlinewidth": 0,
             "ticks": ""
            },
            "colorscale": [
             [
              0,
              "#0d0887"
             ],
             [
              0.1111111111111111,
              "#46039f"
             ],
             [
              0.2222222222222222,
              "#7201a8"
             ],
             [
              0.3333333333333333,
              "#9c179e"
             ],
             [
              0.4444444444444444,
              "#bd3786"
             ],
             [
              0.5555555555555556,
              "#d8576b"
             ],
             [
              0.6666666666666666,
              "#ed7953"
             ],
             [
              0.7777777777777778,
              "#fb9f3a"
             ],
             [
              0.8888888888888888,
              "#fdca26"
             ],
             [
              1,
              "#f0f921"
             ]
            ],
            "type": "heatmapgl"
           }
          ],
          "histogram": [
           {
            "marker": {
             "pattern": {
              "fillmode": "overlay",
              "size": 10,
              "solidity": 0.2
             }
            },
            "type": "histogram"
           }
          ],
          "histogram2d": [
           {
            "colorbar": {
             "outlinewidth": 0,
             "ticks": ""
            },
            "colorscale": [
             [
              0,
              "#0d0887"
             ],
             [
              0.1111111111111111,
              "#46039f"
             ],
             [
              0.2222222222222222,
              "#7201a8"
             ],
             [
              0.3333333333333333,
              "#9c179e"
             ],
             [
              0.4444444444444444,
              "#bd3786"
             ],
             [
              0.5555555555555556,
              "#d8576b"
             ],
             [
              0.6666666666666666,
              "#ed7953"
             ],
             [
              0.7777777777777778,
              "#fb9f3a"
             ],
             [
              0.8888888888888888,
              "#fdca26"
             ],
             [
              1,
              "#f0f921"
             ]
            ],
            "type": "histogram2d"
           }
          ],
          "histogram2dcontour": [
           {
            "colorbar": {
             "outlinewidth": 0,
             "ticks": ""
            },
            "colorscale": [
             [
              0,
              "#0d0887"
             ],
             [
              0.1111111111111111,
              "#46039f"
             ],
             [
              0.2222222222222222,
              "#7201a8"
             ],
             [
              0.3333333333333333,
              "#9c179e"
             ],
             [
              0.4444444444444444,
              "#bd3786"
             ],
             [
              0.5555555555555556,
              "#d8576b"
             ],
             [
              0.6666666666666666,
              "#ed7953"
             ],
             [
              0.7777777777777778,
              "#fb9f3a"
             ],
             [
              0.8888888888888888,
              "#fdca26"
             ],
             [
              1,
              "#f0f921"
             ]
            ],
            "type": "histogram2dcontour"
           }
          ],
          "mesh3d": [
           {
            "colorbar": {
             "outlinewidth": 0,
             "ticks": ""
            },
            "type": "mesh3d"
           }
          ],
          "parcoords": [
           {
            "line": {
             "colorbar": {
              "outlinewidth": 0,
              "ticks": ""
             }
            },
            "type": "parcoords"
           }
          ],
          "pie": [
           {
            "automargin": true,
            "type": "pie"
           }
          ],
          "scatter": [
           {
            "fillpattern": {
             "fillmode": "overlay",
             "size": 10,
             "solidity": 0.2
            },
            "type": "scatter"
           }
          ],
          "scatter3d": [
           {
            "line": {
             "colorbar": {
              "outlinewidth": 0,
              "ticks": ""
             }
            },
            "marker": {
             "colorbar": {
              "outlinewidth": 0,
              "ticks": ""
             }
            },
            "type": "scatter3d"
           }
          ],
          "scattercarpet": [
           {
            "marker": {
             "colorbar": {
              "outlinewidth": 0,
              "ticks": ""
             }
            },
            "type": "scattercarpet"
           }
          ],
          "scattergeo": [
           {
            "marker": {
             "colorbar": {
              "outlinewidth": 0,
              "ticks": ""
             }
            },
            "type": "scattergeo"
           }
          ],
          "scattergl": [
           {
            "marker": {
             "colorbar": {
              "outlinewidth": 0,
              "ticks": ""
             }
            },
            "type": "scattergl"
           }
          ],
          "scattermapbox": [
           {
            "marker": {
             "colorbar": {
              "outlinewidth": 0,
              "ticks": ""
             }
            },
            "type": "scattermapbox"
           }
          ],
          "scatterpolar": [
           {
            "marker": {
             "colorbar": {
              "outlinewidth": 0,
              "ticks": ""
             }
            },
            "type": "scatterpolar"
           }
          ],
          "scatterpolargl": [
           {
            "marker": {
             "colorbar": {
              "outlinewidth": 0,
              "ticks": ""
             }
            },
            "type": "scatterpolargl"
           }
          ],
          "scatterternary": [
           {
            "marker": {
             "colorbar": {
              "outlinewidth": 0,
              "ticks": ""
             }
            },
            "type": "scatterternary"
           }
          ],
          "surface": [
           {
            "colorbar": {
             "outlinewidth": 0,
             "ticks": ""
            },
            "colorscale": [
             [
              0,
              "#0d0887"
             ],
             [
              0.1111111111111111,
              "#46039f"
             ],
             [
              0.2222222222222222,
              "#7201a8"
             ],
             [
              0.3333333333333333,
              "#9c179e"
             ],
             [
              0.4444444444444444,
              "#bd3786"
             ],
             [
              0.5555555555555556,
              "#d8576b"
             ],
             [
              0.6666666666666666,
              "#ed7953"
             ],
             [
              0.7777777777777778,
              "#fb9f3a"
             ],
             [
              0.8888888888888888,
              "#fdca26"
             ],
             [
              1,
              "#f0f921"
             ]
            ],
            "type": "surface"
           }
          ],
          "table": [
           {
            "cells": {
             "fill": {
              "color": "#EBF0F8"
             },
             "line": {
              "color": "white"
             }
            },
            "header": {
             "fill": {
              "color": "#C8D4E3"
             },
             "line": {
              "color": "white"
             }
            },
            "type": "table"
           }
          ]
         },
         "layout": {
          "annotationdefaults": {
           "arrowcolor": "#2a3f5f",
           "arrowhead": 0,
           "arrowwidth": 1
          },
          "autotypenumbers": "strict",
          "coloraxis": {
           "colorbar": {
            "outlinewidth": 0,
            "ticks": ""
           }
          },
          "colorscale": {
           "diverging": [
            [
             0,
             "#8e0152"
            ],
            [
             0.1,
             "#c51b7d"
            ],
            [
             0.2,
             "#de77ae"
            ],
            [
             0.3,
             "#f1b6da"
            ],
            [
             0.4,
             "#fde0ef"
            ],
            [
             0.5,
             "#f7f7f7"
            ],
            [
             0.6,
             "#e6f5d0"
            ],
            [
             0.7,
             "#b8e186"
            ],
            [
             0.8,
             "#7fbc41"
            ],
            [
             0.9,
             "#4d9221"
            ],
            [
             1,
             "#276419"
            ]
           ],
           "sequential": [
            [
             0,
             "#0d0887"
            ],
            [
             0.1111111111111111,
             "#46039f"
            ],
            [
             0.2222222222222222,
             "#7201a8"
            ],
            [
             0.3333333333333333,
             "#9c179e"
            ],
            [
             0.4444444444444444,
             "#bd3786"
            ],
            [
             0.5555555555555556,
             "#d8576b"
            ],
            [
             0.6666666666666666,
             "#ed7953"
            ],
            [
             0.7777777777777778,
             "#fb9f3a"
            ],
            [
             0.8888888888888888,
             "#fdca26"
            ],
            [
             1,
             "#f0f921"
            ]
           ],
           "sequentialminus": [
            [
             0,
             "#0d0887"
            ],
            [
             0.1111111111111111,
             "#46039f"
            ],
            [
             0.2222222222222222,
             "#7201a8"
            ],
            [
             0.3333333333333333,
             "#9c179e"
            ],
            [
             0.4444444444444444,
             "#bd3786"
            ],
            [
             0.5555555555555556,
             "#d8576b"
            ],
            [
             0.6666666666666666,
             "#ed7953"
            ],
            [
             0.7777777777777778,
             "#fb9f3a"
            ],
            [
             0.8888888888888888,
             "#fdca26"
            ],
            [
             1,
             "#f0f921"
            ]
           ]
          },
          "colorway": [
           "#636efa",
           "#EF553B",
           "#00cc96",
           "#ab63fa",
           "#FFA15A",
           "#19d3f3",
           "#FF6692",
           "#B6E880",
           "#FF97FF",
           "#FECB52"
          ],
          "font": {
           "color": "#2a3f5f"
          },
          "geo": {
           "bgcolor": "white",
           "lakecolor": "white",
           "landcolor": "#E5ECF6",
           "showlakes": true,
           "showland": true,
           "subunitcolor": "white"
          },
          "hoverlabel": {
           "align": "left"
          },
          "hovermode": "closest",
          "mapbox": {
           "style": "light"
          },
          "paper_bgcolor": "white",
          "plot_bgcolor": "#E5ECF6",
          "polar": {
           "angularaxis": {
            "gridcolor": "white",
            "linecolor": "white",
            "ticks": ""
           },
           "bgcolor": "#E5ECF6",
           "radialaxis": {
            "gridcolor": "white",
            "linecolor": "white",
            "ticks": ""
           }
          },
          "scene": {
           "xaxis": {
            "backgroundcolor": "#E5ECF6",
            "gridcolor": "white",
            "gridwidth": 2,
            "linecolor": "white",
            "showbackground": true,
            "ticks": "",
            "zerolinecolor": "white"
           },
           "yaxis": {
            "backgroundcolor": "#E5ECF6",
            "gridcolor": "white",
            "gridwidth": 2,
            "linecolor": "white",
            "showbackground": true,
            "ticks": "",
            "zerolinecolor": "white"
           },
           "zaxis": {
            "backgroundcolor": "#E5ECF6",
            "gridcolor": "white",
            "gridwidth": 2,
            "linecolor": "white",
            "showbackground": true,
            "ticks": "",
            "zerolinecolor": "white"
           }
          },
          "shapedefaults": {
           "line": {
            "color": "#2a3f5f"
           }
          },
          "ternary": {
           "aaxis": {
            "gridcolor": "white",
            "linecolor": "white",
            "ticks": ""
           },
           "baxis": {
            "gridcolor": "white",
            "linecolor": "white",
            "ticks": ""
           },
           "bgcolor": "#E5ECF6",
           "caxis": {
            "gridcolor": "white",
            "linecolor": "white",
            "ticks": ""
           }
          },
          "title": {
           "x": 0.05
          },
          "xaxis": {
           "automargin": true,
           "gridcolor": "white",
           "linecolor": "white",
           "ticks": "",
           "title": {
            "standoff": 15
           },
           "zerolinecolor": "white",
           "zerolinewidth": 2
          },
          "yaxis": {
           "automargin": true,
           "gridcolor": "white",
           "linecolor": "white",
           "ticks": "",
           "title": {
            "standoff": 15
           },
           "zerolinecolor": "white",
           "zerolinewidth": 2
          }
         }
        },
        "xaxis": {
         "anchor": "y",
         "domain": [
          0,
          1
         ],
         "title": {
          "text": "empty"
         }
        },
        "yaxis": {
         "anchor": "x",
         "domain": [
          0,
          1
         ],
         "title": {
          "text": "value"
         }
        }
       }
      }
     },
     "metadata": {},
     "output_type": "display_data"
    }
   ],
   "source": [
    "df['empty'].value_counts().plot.bar()"
   ]
  },
  {
   "cell_type": "markdown",
   "id": "0f9eadd3",
   "metadata": {
    "papermill": {
     "duration": 0.036785,
     "end_time": "2022-04-27T16:59:31.648324",
     "exception": false,
     "start_time": "2022-04-27T16:59:31.611539",
     "status": "completed"
    },
    "tags": []
   },
   "source": [
    "# 🔨 Utility"
   ]
  },
  {
   "cell_type": "markdown",
   "id": "ac658fea",
   "metadata": {
    "papermill": {
     "duration": 0.036338,
     "end_time": "2022-04-27T16:59:31.722221",
     "exception": false,
     "start_time": "2022-04-27T16:59:31.685883",
     "status": "completed"
    },
    "tags": []
   },
   "source": [
    "## Mask"
   ]
  },
  {
   "cell_type": "code",
   "execution_count": 12,
   "id": "ffadd425",
   "metadata": {
    "execution": {
     "iopub.execute_input": "2022-04-27T16:59:31.804343Z",
     "iopub.status.busy": "2022-04-27T16:59:31.803492Z",
     "iopub.status.idle": "2022-04-27T16:59:31.908031Z",
     "shell.execute_reply": "2022-04-27T16:59:31.908542Z",
     "shell.execute_reply.started": "2022-04-24T22:36:09.462093Z"
    },
    "papermill": {
     "duration": 0.149899,
     "end_time": "2022-04-27T16:59:31.908742",
     "exception": false,
     "start_time": "2022-04-27T16:59:31.758843",
     "status": "completed"
    },
    "tags": []
   },
   "outputs": [],
   "source": [
    "def id2mask(id_):\n",
    "    idf = df[df['id']==id_]\n",
    "    wh = idf[['height','width']].iloc[0]\n",
    "    shape = (wh.height, wh.width, 3)\n",
    "    mask = np.zeros(shape, dtype=np.uint8)\n",
    "    for i, class_ in enumerate(['large_bowel', 'small_bowel', 'stomach']):\n",
    "        cdf = idf[idf['class']==class_]\n",
    "        rle = cdf.segmentation.squeeze()\n",
    "        if len(cdf) and not pd.isna(rle):\n",
    "            mask[..., i] = rle_decode(rle, shape[:2])\n",
    "    return mask\n",
    "\n",
    "def rgb2gray(mask):\n",
    "    pad_mask = np.pad(mask, pad_width=[(0,0),(0,0),(1,0)])\n",
    "    gray_mask = pad_mask.argmax(-1)\n",
    "    return gray_mask\n",
    "\n",
    "def gray2rgb(mask):\n",
    "    rgb_mask = tf.keras.utils.to_categorical(mask, num_classes=4)\n",
    "    return rgb_mask[..., 1:].astype(mask.dtype)"
   ]
  },
  {
   "cell_type": "markdown",
   "id": "acd5ef21",
   "metadata": {
    "papermill": {
     "duration": 0.059044,
     "end_time": "2022-04-27T16:59:32.037880",
     "exception": false,
     "start_time": "2022-04-27T16:59:31.978836",
     "status": "completed"
    },
    "tags": []
   },
   "source": [
    "## Image"
   ]
  },
  {
   "cell_type": "code",
   "execution_count": 13,
   "id": "814f4031",
   "metadata": {
    "execution": {
     "iopub.execute_input": "2022-04-27T16:59:32.166696Z",
     "iopub.status.busy": "2022-04-27T16:59:32.165734Z",
     "iopub.status.idle": "2022-04-27T16:59:32.281394Z",
     "shell.execute_reply": "2022-04-27T16:59:32.282500Z",
     "shell.execute_reply.started": "2022-04-24T22:51:08.85477Z"
    },
    "papermill": {
     "duration": 0.188184,
     "end_time": "2022-04-27T16:59:32.282716",
     "exception": false,
     "start_time": "2022-04-27T16:59:32.094532",
     "status": "completed"
    },
    "tags": []
   },
   "outputs": [],
   "source": [
    "def load_img(path):\n",
    "    img = cv2.imread(path, cv2.IMREAD_UNCHANGED)\n",
    "    # zona formerly had tile\n",
    "    # img = np.tile(img[...,None], [1, 1, 3]) # gray to rgb\n",
    "    img = img.astype('float32') # original is uint16\n",
    "    mx = np.max(img)\n",
    "    if mx:\n",
    "        img/=mx # scale image to [0, 1]\n",
    "    return img\n",
    "\n",
    "def load_msk(path):\n",
    "    msk = np.load(path)\n",
    "    msk = msk.astype('float32')\n",
    "    msk/=255.0\n",
    "    return msk\n",
    "    \n",
    "\n",
    "def show_img(img, mask=None):\n",
    "    clahe = cv2.createCLAHE(clipLimit=2.0, tileGridSize=(8,8))\n",
    "#     img = clahe.apply(img)\n",
    "#     plt.figure(figsize=(10,10))\n",
    "    plt.imshow(img, cmap='bone')\n",
    "    \n",
    "    if mask is not None:\n",
    "        # plt.imshow(np.ma.masked_where(mask!=1, mask), alpha=0.5, cmap='autumn')\n",
    "        plt.imshow(mask, alpha=0.5)\n",
    "        handles = [Rectangle((0,0),1,1, color=_c) for _c in [(0.667,0.0,0.0), (0.0,0.667,0.0), (0.0,0.0,0.667)]]\n",
    "        labels = [\"Large Bowel\", \"Small Bowel\", \"Stomach\"]\n",
    "        plt.legend(handles,labels)\n",
    "    plt.axis('off')"
   ]
  },
  {
   "cell_type": "markdown",
   "id": "79978bf6",
   "metadata": {
    "papermill": {
     "duration": 0.051446,
     "end_time": "2022-04-27T16:59:32.396221",
     "exception": false,
     "start_time": "2022-04-27T16:59:32.344775",
     "status": "completed"
    },
    "tags": []
   },
   "source": [
    "## RLE"
   ]
  },
  {
   "cell_type": "code",
   "execution_count": 14,
   "id": "e00a42a2",
   "metadata": {
    "execution": {
     "iopub.execute_input": "2022-04-27T16:59:32.531245Z",
     "iopub.status.busy": "2022-04-27T16:59:32.530375Z",
     "iopub.status.idle": "2022-04-27T16:59:32.641295Z",
     "shell.execute_reply": "2022-04-27T16:59:32.642420Z",
     "shell.execute_reply.started": "2022-04-24T22:49:14.324713Z"
    },
    "papermill": {
     "duration": 0.184278,
     "end_time": "2022-04-27T16:59:32.642645",
     "exception": false,
     "start_time": "2022-04-27T16:59:32.458367",
     "status": "completed"
    },
    "tags": []
   },
   "outputs": [],
   "source": [
    "# ref: https://www.kaggle.com/paulorzp/run-length-encode-and-decode\n",
    "def rle_decode(mask_rle, shape):\n",
    "    '''\n",
    "    mask_rle: run-length as string formated (start length)\n",
    "    shape: (height,width) of array to return \n",
    "    Returns numpy array, 1 - mask, 0 - background\n",
    "\n",
    "    '''\n",
    "    s = mask_rle.split()\n",
    "    starts, lengths = [np.asarray(x, dtype=int) for x in (s[0:][::2], s[1:][::2])]\n",
    "    starts -= 1\n",
    "    ends = starts + lengths\n",
    "    img = np.zeros(shape[0]*shape[1], dtype=np.uint8)\n",
    "    for lo, hi in zip(starts, ends):\n",
    "        img[lo:hi] = 1\n",
    "    return img.reshape(shape)  # Needed to align to RLE direction\n",
    "\n",
    "\n",
    "# ref.: https://www.kaggle.com/stainsby/fast-tested-rle\n",
    "def rle_encode(img):\n",
    "    '''\n",
    "    img: numpy array, 1 - mask, 0 - background\n",
    "    Returns run length as string formated\n",
    "    '''\n",
    "    pixels = img.flatten()\n",
    "    pixels = np.concatenate([[0], pixels, [0]])\n",
    "    runs = np.where(pixels[1:] != pixels[:-1])[0] + 1\n",
    "    runs[1::2] -= runs[::2]\n",
    "    return ' '.join(str(x) for x in runs)"
   ]
  },
  {
   "cell_type": "markdown",
   "id": "cc4017cb",
   "metadata": {
    "papermill": {
     "duration": 0.059257,
     "end_time": "2022-04-27T16:59:32.762676",
     "exception": false,
     "start_time": "2022-04-27T16:59:32.703419",
     "status": "completed"
    },
    "tags": []
   },
   "source": [
    "# 📁 Create Folds"
   ]
  },
  {
   "cell_type": "code",
   "execution_count": 15,
   "id": "3797e4d7",
   "metadata": {
    "execution": {
     "iopub.execute_input": "2022-04-27T16:59:32.896100Z",
     "iopub.status.busy": "2022-04-27T16:59:32.895248Z",
     "iopub.status.idle": "2022-04-27T16:59:33.225042Z",
     "shell.execute_reply": "2022-04-27T16:59:33.225561Z",
     "shell.execute_reply.started": "2022-04-24T22:49:14.908729Z"
    },
    "papermill": {
     "duration": 0.403287,
     "end_time": "2022-04-27T16:59:33.225709",
     "exception": false,
     "start_time": "2022-04-27T16:59:32.822422",
     "status": "completed"
    },
    "tags": []
   },
   "outputs": [
    {
     "data": {
      "text/plain": [
       "fold  empty\n",
       "0.0   False    3257\n",
       "      True     4551\n",
       "1.0   False    3540\n",
       "      True     4540\n",
       "2.0   False    3053\n",
       "      True     3923\n",
       "3.0   False    3407\n",
       "      True     4801\n",
       "4.0   False    3333\n",
       "      True     4091\n",
       "Name: id, dtype: int64"
      ]
     },
     "metadata": {},
     "output_type": "display_data"
    }
   ],
   "source": [
    "skf = StratifiedGroupKFold(n_splits=CFG.n_fold, shuffle=True, random_state=CFG.seed)\n",
    "for fold, (train_idx, val_idx) in enumerate(skf.split(df, df['empty'], groups = df[\"case\"])):\n",
    "    df.loc[val_idx, 'fold'] = fold\n",
    "display(df.groupby(['fold','empty'])['id'].count())"
   ]
  },
  {
   "cell_type": "markdown",
   "id": "c201789e",
   "metadata": {
    "papermill": {
     "duration": 0.036544,
     "end_time": "2022-04-27T16:59:33.299375",
     "exception": false,
     "start_time": "2022-04-27T16:59:33.262831",
     "status": "completed"
    },
    "tags": []
   },
   "source": [
    "# 🍚 Dataset"
   ]
  },
  {
   "cell_type": "code",
   "execution_count": 16,
   "id": "069316bd",
   "metadata": {
    "execution": {
     "iopub.execute_input": "2022-04-27T16:59:33.382691Z",
     "iopub.status.busy": "2022-04-27T16:59:33.382122Z",
     "iopub.status.idle": "2022-04-27T16:59:33.461134Z",
     "shell.execute_reply": "2022-04-27T16:59:33.460243Z",
     "shell.execute_reply.started": "2022-04-24T22:49:15.621446Z"
    },
    "papermill": {
     "duration": 0.125068,
     "end_time": "2022-04-27T16:59:33.461271",
     "exception": false,
     "start_time": "2022-04-27T16:59:33.336203",
     "status": "completed"
    },
    "tags": []
   },
   "outputs": [],
   "source": [
    "class BuildDataset(torch.utils.data.Dataset):\n",
    "    def __init__(self, df, label=True, transforms=None):\n",
    "        self.df         = df\n",
    "        self.label      = label\n",
    "        self.img_paths  = df['image_path'].tolist()\n",
    "        self.msk_paths  = df['mask_path'].tolist()\n",
    "        self.transforms = transforms\n",
    "        \n",
    "    def __len__(self):\n",
    "        return len(self.df)\n",
    "    \n",
    "    def __getitem__(self, index):\n",
    "        img_path  = self.img_paths[index]\n",
    "        # print(f\"zona0 - load_img index {index} img_path {img_path}\",flush=True) \n",
    "        img = []\n",
    "        img = load_img(img_path)\n",
    "        \n",
    "        if self.label:\n",
    "            # print(f\"zonaA - entering label {0}\",flush=True) \n",
    "            msk_path = self.msk_paths[index]\n",
    "            # print(f\"zonaB - load_msk index {index} msk_path {msk_path}\",flush=True) \n",
    "            msk = load_msk(msk_path)\n",
    "            # print(f\"zonaC1 - img.shape {img.shape} msk.shape {msk.shape}\",flush=True)\n",
    "            if self.transforms:\n",
    "                # print(f\"zonaC2 - applying transforms {0}\",flush=True) \n",
    "                data = self.transforms(image=img, mask=msk)\n",
    "                # print(f\"zonaD - done w transforms {0}\",flush=True)\n",
    "                img  = data['image']\n",
    "                msk  = data['mask']\n",
    "                # print(f\"zonaE - done 2 {0}\",flush=True)\n",
    "            # try:\n",
    "            img = np.transpose(img, (2, 0, 1))\n",
    "            msk = np.transpose(msk, (2, 0, 1))\n",
    "            # except Exception as inst:\n",
    "            #     print(\"caught exception:\")\n",
    "            #     print(type(inst))    # the exception type\n",
    "            #     print(inst.args)     # arguments stored in .args\n",
    "            #     print(inst) \n",
    "            # print(f\"zonaF - done w/ transpose img.shape {img.shape} msk.shape {msk.shape}\",flush=True) \n",
    "            # print(f\"zonaG - returning from label {0}\\n\",flush=True) \n",
    "            return torch.tensor(img), torch.tensor(msk)\n",
    "        else:\n",
    "            # print(\"zonaXXX - entering NOLABEL!\",flush=True) \n",
    "            if self.transforms:\n",
    "                data = self.transforms(image=img)\n",
    "                img  = data['image']\n",
    "            img = np.transpose(img, (2, 0, 1))\n",
    "            return torch.tensor(img)"
   ]
  },
  {
   "cell_type": "markdown",
   "id": "ebc4cc83",
   "metadata": {
    "papermill": {
     "duration": 0.037494,
     "end_time": "2022-04-27T16:59:33.536698",
     "exception": false,
     "start_time": "2022-04-27T16:59:33.499204",
     "status": "completed"
    },
    "tags": []
   },
   "source": [
    "# 🌈 Augmentations"
   ]
  },
  {
   "cell_type": "code",
   "execution_count": 17,
   "id": "4c158ede",
   "metadata": {
    "_kg_hide-output": true,
    "execution": {
     "iopub.execute_input": "2022-04-27T16:59:33.618311Z",
     "iopub.status.busy": "2022-04-27T16:59:33.617739Z",
     "iopub.status.idle": "2022-04-27T16:59:33.695426Z",
     "shell.execute_reply": "2022-04-27T16:59:33.694816Z",
     "shell.execute_reply.started": "2022-04-24T22:49:16.413696Z"
    },
    "papermill": {
     "duration": 0.122254,
     "end_time": "2022-04-27T16:59:33.695579",
     "exception": false,
     "start_time": "2022-04-27T16:59:33.573325",
     "status": "completed"
    },
    "tags": []
   },
   "outputs": [],
   "source": [
    "data_transforms = {\n",
    "    \"train\": A.Compose([\n",
    "        A.Resize(*CFG.img_size, interpolation=cv2.INTER_NEAREST),\n",
    "        A.HorizontalFlip(p=0.5),\n",
    "#         A.VerticalFlip(p=0.5),\n",
    "        A.ShiftScaleRotate(shift_limit=0.0625, scale_limit=0.05, rotate_limit=10, p=0.5),\n",
    "        A.OneOf([\n",
    "            A.GridDistortion(num_steps=5, distort_limit=0.05, p=1.0),\n",
    "# #             A.OpticalDistortion(distort_limit=0.05, shift_limit=0.05, p=1.0),\n",
    "            A.ElasticTransform(alpha=1, sigma=50, alpha_affine=50, p=1.0)\n",
    "        ], p=0.25),\n",
    "        A.CoarseDropout(max_holes=8, max_height=CFG.img_size[0]//20, max_width=CFG.img_size[1]//20,\n",
    "                         min_holes=5, fill_value=0, mask_fill_value=0, p=0.5),\n",
    "        ], p=1.0),\n",
    "    \n",
    "    \"valid\": A.Compose([\n",
    "        A.Resize(*CFG.img_size, interpolation=cv2.INTER_NEAREST),\n",
    "        ], p=1.0)\n",
    "}"
   ]
  },
  {
   "cell_type": "markdown",
   "id": "39f966f7",
   "metadata": {
    "papermill": {
     "duration": 0.036793,
     "end_time": "2022-04-27T16:59:33.769926",
     "exception": false,
     "start_time": "2022-04-27T16:59:33.733133",
     "status": "completed"
    },
    "tags": []
   },
   "source": [
    "# 🍰 DataLoader"
   ]
  },
  {
   "cell_type": "code",
   "execution_count": 18,
   "id": "b7c6a64b",
   "metadata": {
    "execution": {
     "iopub.execute_input": "2022-04-27T16:59:33.851157Z",
     "iopub.status.busy": "2022-04-27T16:59:33.850544Z",
     "iopub.status.idle": "2022-04-27T16:59:33.927605Z",
     "shell.execute_reply": "2022-04-27T16:59:33.927083Z",
     "shell.execute_reply.started": "2022-04-24T22:50:05.173145Z"
    },
    "papermill": {
     "duration": 0.120992,
     "end_time": "2022-04-27T16:59:33.927748",
     "exception": false,
     "start_time": "2022-04-27T16:59:33.806756",
     "status": "completed"
    },
    "tags": []
   },
   "outputs": [],
   "source": [
    "def prepare_loaders(fold, debug=False):\n",
    "    train_df = df.query(\"fold!=@fold\").reset_index(drop=True)\n",
    "    valid_df = df.query(\"fold==@fold\").reset_index(drop=True)\n",
    "    if debug:\n",
    "        train_df = train_df.head(32*5).query(\"empty==0\")\n",
    "        valid_df = valid_df.head(32*3).query(\"empty==0\")\n",
    "    # zona - formerly had transforms\n",
    "    train_dataset = BuildDataset(train_df, transforms=data_transforms['train'])\n",
    "    valid_dataset = BuildDataset(valid_df, transforms=data_transforms['valid'])\n",
    "    # train_dataset = BuildDataset(train_df)\n",
    "    # valid_dataset = BuildDataset(valid_df)\n",
    "\n",
    "    # zona - workers formerly 4\n",
    "    train_loader = DataLoader(train_dataset, batch_size=CFG.train_bs if not debug else 20, \n",
    "                              num_workers=0, shuffle=True, pin_memory=True, drop_last=False)\n",
    "    valid_loader = DataLoader(valid_dataset, batch_size=CFG.valid_bs if not debug else 20, \n",
    "                              num_workers=0, shuffle=False, pin_memory=True)\n",
    "    \n",
    "    return train_loader, valid_loader\n"
   ]
  },
  {
   "cell_type": "code",
   "execution_count": 19,
   "id": "20005727",
   "metadata": {
    "execution": {
     "iopub.execute_input": "2022-04-27T16:59:34.010769Z",
     "iopub.status.busy": "2022-04-27T16:59:34.009941Z",
     "iopub.status.idle": "2022-04-27T16:59:34.117932Z",
     "shell.execute_reply": "2022-04-27T16:59:34.117273Z",
     "shell.execute_reply.started": "2022-04-24T22:50:08.788478Z"
    },
    "papermill": {
     "duration": 0.153125,
     "end_time": "2022-04-27T16:59:34.118073",
     "exception": false,
     "start_time": "2022-04-27T16:59:33.964948",
     "status": "completed"
    },
    "tags": []
   },
   "outputs": [],
   "source": [
    "train_loader, valid_loader = prepare_loaders(fold=0, debug=True)"
   ]
  },
  {
   "cell_type": "code",
   "execution_count": 21,
   "id": "aac0abd6",
   "metadata": {},
   "outputs": [
    {
     "data": {
      "text/plain": [
       "(torch.Size([20, 3, 224, 224]), torch.Size([20, 3, 224, 224]))"
      ]
     },
     "execution_count": 21,
     "metadata": {},
     "output_type": "execute_result"
    }
   ],
   "source": [
    "imgs, msks = next(iter(train_loader))\n",
    "imgs.size(), msks.size()"
   ]
  },
  {
   "cell_type": "markdown",
   "id": "fe087d57",
   "metadata": {
    "papermill": {
     "duration": 0.054896,
     "end_time": "2022-04-27T16:59:40.004376",
     "exception": false,
     "start_time": "2022-04-27T16:59:39.949480",
     "status": "completed"
    },
    "tags": []
   },
   "source": [
    "# 📈 Visualization"
   ]
  },
  {
   "cell_type": "code",
   "execution_count": 22,
   "id": "105a4bb4",
   "metadata": {
    "_kg_hide-input": true,
    "execution": {
     "iopub.execute_input": "2022-04-27T16:59:40.097517Z",
     "iopub.status.busy": "2022-04-27T16:59:40.096485Z",
     "iopub.status.idle": "2022-04-27T16:59:40.186504Z",
     "shell.execute_reply": "2022-04-27T16:59:40.185985Z",
     "shell.execute_reply.started": "2022-04-24T22:51:24.204792Z"
    },
    "papermill": {
     "duration": 0.139369,
     "end_time": "2022-04-27T16:59:40.186635",
     "exception": false,
     "start_time": "2022-04-27T16:59:40.047266",
     "status": "completed"
    },
    "tags": []
   },
   "outputs": [],
   "source": [
    "def plot_batch(imgs, msks, size=3):\n",
    "    plt.figure(figsize=(5*5, 5))\n",
    "    for idx in range(size):\n",
    "        plt.subplot(1, 5, idx+1)\n",
    "        img = imgs[idx,].permute((1, 2, 0)).numpy()*255.0\n",
    "        img = img.astype('uint8')\n",
    "        msk = msks[idx,].permute((1, 2, 0)).numpy()*255.0\n",
    "        show_img(img, msk)\n",
    "    plt.tight_layout()\n",
    "    plt.show()"
   ]
  },
  {
   "cell_type": "code",
   "execution_count": 23,
   "id": "6c26ec93",
   "metadata": {
    "execution": {
     "iopub.execute_input": "2022-04-27T16:59:40.266541Z",
     "iopub.status.busy": "2022-04-27T16:59:40.265727Z",
     "iopub.status.idle": "2022-04-27T16:59:41.388720Z",
     "shell.execute_reply": "2022-04-27T16:59:41.389157Z",
     "shell.execute_reply.started": "2022-04-24T22:51:24.93073Z"
    },
    "papermill": {
     "duration": 1.165357,
     "end_time": "2022-04-27T16:59:41.389311",
     "exception": false,
     "start_time": "2022-04-27T16:59:40.223954",
     "status": "completed"
    },
    "tags": []
   },
   "outputs": [
    {
     "name": "stderr",
     "output_type": "stream",
     "text": [
      "Clipping input data to the valid range for imshow with RGB data ([0..1] for floats or [0..255] for integers).\n",
      "Clipping input data to the valid range for imshow with RGB data ([0..1] for floats or [0..255] for integers).\n",
      "Clipping input data to the valid range for imshow with RGB data ([0..1] for floats or [0..255] for integers).\n",
      "Clipping input data to the valid range for imshow with RGB data ([0..1] for floats or [0..255] for integers).\n",
      "Clipping input data to the valid range for imshow with RGB data ([0..1] for floats or [0..255] for integers).\n"
     ]
    },
    {
     "data": {
      "image/png": "[encoded data removed]",
      "text/plain": [
       "<Figure size 2500x500 with 5 Axes>"
      ]
     },
     "metadata": {},
     "output_type": "display_data"
    }
   ],
   "source": [
    "plot_batch(imgs, msks, size=5)"
   ]
  },
  {
   "cell_type": "code",
   "execution_count": 24,
   "id": "75244b62",
   "metadata": {
    "execution": {
     "iopub.execute_input": "2022-04-27T16:59:41.482397Z",
     "iopub.status.busy": "2022-04-27T16:59:41.481608Z",
     "iopub.status.idle": "2022-04-27T16:59:41.789076Z",
     "shell.execute_reply": "2022-04-27T16:59:41.789627Z",
     "shell.execute_reply.started": "2022-04-24T22:40:51.968432Z"
    },
    "papermill": {
     "duration": 0.356089,
     "end_time": "2022-04-27T16:59:41.789782",
     "exception": false,
     "start_time": "2022-04-27T16:59:41.433693",
     "status": "completed"
    },
    "tags": []
   },
   "outputs": [
    {
     "data": {
      "text/plain": [
       "12288"
      ]
     },
     "execution_count": 24,
     "metadata": {},
     "output_type": "execute_result"
    }
   ],
   "source": [
    "import gc\n",
    "gc.collect()"
   ]
  },
  {
   "cell_type": "markdown",
   "id": "a6749df5",
   "metadata": {
    "papermill": {
     "duration": 0.044104,
     "end_time": "2022-04-27T16:59:41.879258",
     "exception": false,
     "start_time": "2022-04-27T16:59:41.835154",
     "status": "completed"
    },
    "tags": []
   },
   "source": [
    "# 📦 Model\n"
   ]
  },
  {
   "cell_type": "code",
   "execution_count": 25,
   "id": "77aa33c2",
   "metadata": {
    "execution": {
     "iopub.execute_input": "2022-04-27T16:59:41.974177Z",
     "iopub.status.busy": "2022-04-27T16:59:41.973355Z",
     "iopub.status.idle": "2022-04-27T16:59:43.062598Z",
     "shell.execute_reply": "2022-04-27T16:59:43.061656Z",
     "shell.execute_reply.started": "2022-04-24T22:51:57.531978Z"
    },
    "papermill": {
     "duration": 1.139048,
     "end_time": "2022-04-27T16:59:43.062745",
     "exception": false,
     "start_time": "2022-04-27T16:59:41.923697",
     "status": "completed"
    },
    "tags": []
   },
   "outputs": [],
   "source": [
    "import segmentation_models_pytorch as smp\n",
    "\n",
    "def build_model():\n",
    "    model = smp.Unet(\n",
    "        encoder_name=CFG.backbone,      # choose encoder, e.g. mobilenet_v2 or efficientnet-b7\n",
    "        encoder_weights=\"imagenet\",     # use `imagenet` pre-trained weights for encoder initialization\n",
    "        in_channels=3,                  # model input channels (1 for gray-scale images, 3 for RGB, etc.)\n",
    "        classes=CFG.num_classes,        # model output channels (number of classes in your dataset)\n",
    "        activation=None,\n",
    "    )\n",
    "    model.to(CFG.device)\n",
    "    return model\n",
    "\n",
    "def load_model(path):\n",
    "    model = build_model()\n",
    "    model.load_state_dict(torch.load(path))\n",
    "    model.eval()\n",
    "    return model"
   ]
  },
  {
   "cell_type": "markdown",
   "id": "e8b68cd2",
   "metadata": {
    "papermill": {
     "duration": 0.043889,
     "end_time": "2022-04-27T16:59:43.151606",
     "exception": false,
     "start_time": "2022-04-27T16:59:43.107717",
     "status": "completed"
    },
    "tags": []
   },
   "source": [
    "# 🔧 Loss Function"
   ]
  },
  {
   "cell_type": "code",
   "execution_count": 26,
   "id": "fb0ef432",
   "metadata": {
    "execution": {
     "iopub.execute_input": "2022-04-27T16:59:43.249965Z",
     "iopub.status.busy": "2022-04-27T16:59:43.249150Z",
     "iopub.status.idle": "2022-04-27T16:59:43.326892Z",
     "shell.execute_reply": "2022-04-27T16:59:43.327347Z",
     "shell.execute_reply.started": "2022-04-24T22:52:19.17603Z"
    },
    "papermill": {
     "duration": 0.131717,
     "end_time": "2022-04-27T16:59:43.327523",
     "exception": false,
     "start_time": "2022-04-27T16:59:43.195806",
     "status": "completed"
    },
    "tags": []
   },
   "outputs": [],
   "source": [
    "JaccardLoss = smp.losses.JaccardLoss(mode='multilabel')\n",
    "DiceLoss    = smp.losses.DiceLoss(mode='multilabel')\n",
    "BCELoss     = smp.losses.SoftBCEWithLogitsLoss()\n",
    "LovaszLoss  = smp.losses.LovaszLoss(mode='multilabel', per_image=False)\n",
    "TverskyLoss = smp.losses.TverskyLoss(mode='multilabel', log_loss=False)\n",
    "\n",
    "def dice_coef(y_true, y_pred, thr=0.5, dim=(2,3), epsilon=0.001):\n",
    "    y_true = y_true.to(torch.float32)\n",
    "    y_pred = (y_pred>thr).to(torch.float32)\n",
    "    inter = (y_true*y_pred).sum(dim=dim)\n",
    "    den = y_true.sum(dim=dim) + y_pred.sum(dim=dim)\n",
    "    dice = ((2*inter+epsilon)/(den+epsilon)).mean(dim=(1,0))\n",
    "    return dice\n",
    "\n",
    "def iou_coef(y_true, y_pred, thr=0.5, dim=(2,3), epsilon=0.001):\n",
    "    y_true = y_true.to(torch.float32)\n",
    "    y_pred = (y_pred>thr).to(torch.float32)\n",
    "    inter = (y_true*y_pred).sum(dim=dim)\n",
    "    union = (y_true + y_pred - y_true*y_pred).sum(dim=dim)\n",
    "    iou = ((inter+epsilon)/(union+epsilon)).mean(dim=(1,0))\n",
    "    return iou\n",
    "\n",
    "def criterion(y_pred, y_true):\n",
    "    return 0.5*BCELoss(y_pred, y_true) + 0.5*TverskyLoss(y_pred, y_true)"
   ]
  },
  {
   "cell_type": "markdown",
   "id": "25117f9f",
   "metadata": {
    "papermill": {
     "duration": 0.044368,
     "end_time": "2022-04-27T16:59:43.417134",
     "exception": false,
     "start_time": "2022-04-27T16:59:43.372766",
     "status": "completed"
    },
    "tags": []
   },
   "source": [
    "# 🚄 Training Function"
   ]
  },
  {
   "cell_type": "code",
   "execution_count": 27,
   "id": "084b3706",
   "metadata": {
    "execution": {
     "iopub.execute_input": "2022-04-27T16:59:43.515049Z",
     "iopub.status.busy": "2022-04-27T16:59:43.514206Z",
     "iopub.status.idle": "2022-04-27T16:59:43.593135Z",
     "shell.execute_reply": "2022-04-27T16:59:43.592628Z",
     "shell.execute_reply.started": "2022-04-24T22:52:20.774274Z"
    },
    "papermill": {
     "duration": 0.13167,
     "end_time": "2022-04-27T16:59:43.593273",
     "exception": false,
     "start_time": "2022-04-27T16:59:43.461603",
     "status": "completed"
    },
    "tags": []
   },
   "outputs": [],
   "source": [
    "def train_one_epoch(model, optimizer, scheduler, dataloader, device, epoch):\n",
    "    model.train()\n",
    "    scaler = amp.GradScaler()\n",
    "    \n",
    "    dataset_size = 0\n",
    "    running_loss = 0.0\n",
    "    \n",
    "    pbar = tqdm(enumerate(dataloader), total=len(dataloader), desc='Train ')\n",
    "    for step, (images, masks) in pbar:         \n",
    "        images = images.to(device, dtype=torch.float)\n",
    "        masks  = masks.to(device, dtype=torch.float)\n",
    "        \n",
    "        batch_size = images.size(0)\n",
    "        \n",
    "        with amp.autocast(enabled=True):\n",
    "            y_pred = model(images)\n",
    "            loss   = criterion(y_pred, masks)\n",
    "            loss   = loss / CFG.n_accumulate\n",
    "            \n",
    "        scaler.scale(loss).backward()\n",
    "    \n",
    "        if (step + 1) % CFG.n_accumulate == 0:\n",
    "            scaler.step(optimizer)\n",
    "            scaler.update()\n",
    "\n",
    "            # zero the parameter gradients\n",
    "            optimizer.zero_grad()\n",
    "\n",
    "            if scheduler is not None:\n",
    "                scheduler.step()\n",
    "                \n",
    "        running_loss += (loss.item() * batch_size)\n",
    "        dataset_size += batch_size\n",
    "        \n",
    "        epoch_loss = running_loss / dataset_size\n",
    "        \n",
    "        mem = torch.cuda.memory_reserved() / 1E9 if torch.cuda.is_available() else 0\n",
    "        current_lr = optimizer.param_groups[0]['lr']\n",
    "        pbar.set_postfix(train_loss=f'{epoch_loss:0.4f}',\n",
    "                        lr=f'{current_lr:0.5f}',\n",
    "                        gpu_mem=f'{mem:0.2f} GB')\n",
    "    torch.cuda.empty_cache()\n",
    "    gc.collect()\n",
    "    \n",
    "    return epoch_loss"
   ]
  },
  {
   "cell_type": "markdown",
   "id": "c94af0a8",
   "metadata": {
    "papermill": {
     "duration": 0.043907,
     "end_time": "2022-04-27T16:59:43.682032",
     "exception": false,
     "start_time": "2022-04-27T16:59:43.638125",
     "status": "completed"
    },
    "tags": []
   },
   "source": [
    "# 👀 Validation Function"
   ]
  },
  {
   "cell_type": "code",
   "execution_count": 28,
   "id": "f1779da4",
   "metadata": {
    "execution": {
     "iopub.execute_input": "2022-04-27T16:59:43.779602Z",
     "iopub.status.busy": "2022-04-27T16:59:43.778746Z",
     "iopub.status.idle": "2022-04-27T16:59:43.857198Z",
     "shell.execute_reply": "2022-04-27T16:59:43.856610Z",
     "shell.execute_reply.started": "2022-04-24T22:52:23.297011Z"
    },
    "papermill": {
     "duration": 0.131273,
     "end_time": "2022-04-27T16:59:43.857323",
     "exception": false,
     "start_time": "2022-04-27T16:59:43.726050",
     "status": "completed"
    },
    "tags": []
   },
   "outputs": [],
   "source": [
    "@torch.no_grad()\n",
    "def valid_one_epoch(model, dataloader, device, epoch):\n",
    "    model.eval()\n",
    "    \n",
    "    dataset_size = 0\n",
    "    running_loss = 0.0\n",
    "    \n",
    "    val_scores = []\n",
    "    \n",
    "    pbar = tqdm(enumerate(dataloader), total=len(dataloader), desc='Valid ')\n",
    "    for step, (images, masks) in pbar:        \n",
    "        images  = images.to(device, dtype=torch.float)\n",
    "        masks   = masks.to(device, dtype=torch.float)\n",
    "        \n",
    "        batch_size = images.size(0)\n",
    "        \n",
    "        y_pred  = model(images)\n",
    "        loss    = criterion(y_pred, masks)\n",
    "        \n",
    "        running_loss += (loss.item() * batch_size)\n",
    "        dataset_size += batch_size\n",
    "        \n",
    "        epoch_loss = running_loss / dataset_size\n",
    "        \n",
    "        y_pred = nn.Sigmoid()(y_pred)\n",
    "        val_dice = dice_coef(masks, y_pred).cpu().detach().numpy()\n",
    "        val_jaccard = iou_coef(masks, y_pred).cpu().detach().numpy()\n",
    "        val_scores.append([val_dice, val_jaccard])\n",
    "        \n",
    "        mem = torch.cuda.memory_reserved() / 1E9 if torch.cuda.is_available() else 0\n",
    "        current_lr = optimizer.param_groups[0]['lr']\n",
    "        pbar.set_postfix(valid_loss=f'{epoch_loss:0.4f}',\n",
    "                        lr=f'{current_lr:0.5f}',\n",
    "                        gpu_memory=f'{mem:0.2f} GB')\n",
    "    val_scores  = np.mean(val_scores, axis=0)\n",
    "    torch.cuda.empty_cache()\n",
    "    gc.collect()\n",
    "    \n",
    "    return epoch_loss, val_scores"
   ]
  },
  {
   "cell_type": "markdown",
   "id": "3f62a232",
   "metadata": {
    "papermill": {
     "duration": 0.044111,
     "end_time": "2022-04-27T16:59:43.945768",
     "exception": false,
     "start_time": "2022-04-27T16:59:43.901657",
     "status": "completed"
    },
    "tags": []
   },
   "source": [
    "# 🏃 Run Training"
   ]
  },
  {
   "cell_type": "code",
   "execution_count": 29,
   "id": "42e928e2",
   "metadata": {
    "execution": {
     "iopub.execute_input": "2022-04-27T16:59:44.048597Z",
     "iopub.status.busy": "2022-04-27T16:59:44.047722Z",
     "iopub.status.idle": "2022-04-27T16:59:44.128985Z",
     "shell.execute_reply": "2022-04-27T16:59:44.129437Z",
     "shell.execute_reply.started": "2022-04-24T22:52:24.583036Z"
    },
    "papermill": {
     "duration": 0.139173,
     "end_time": "2022-04-27T16:59:44.129599",
     "exception": false,
     "start_time": "2022-04-27T16:59:43.990426",
     "status": "completed"
    },
    "tags": []
   },
   "outputs": [],
   "source": [
    "def run_training(model, optimizer, scheduler, device, num_epochs):\n",
    "    # To automatically log gradients\n",
    "    wandb.watch(model, log_freq=100)\n",
    "    \n",
    "    if torch.cuda.is_available():\n",
    "        print(\"cuda: {}\\n\".format(torch.cuda.get_device_name()))\n",
    "    \n",
    "    start = time.time()\n",
    "    best_model_wts = copy.deepcopy(model.state_dict())\n",
    "    best_dice      = -np.inf\n",
    "    best_epoch     = -1\n",
    "    history = defaultdict(list)\n",
    "    \n",
    "    for epoch in range(1, num_epochs + 1): \n",
    "        gc.collect()\n",
    "        print(f'Epoch {epoch}/{num_epochs}', end='')\n",
    "        train_loss = train_one_epoch(model, optimizer, scheduler, \n",
    "                                           dataloader=train_loader, \n",
    "                                           device=CFG.device, epoch=epoch)\n",
    "        \n",
    "        val_loss, val_scores = valid_one_epoch(model, valid_loader, \n",
    "                                                 device=CFG.device, \n",
    "                                                 epoch=epoch)\n",
    "        val_dice, val_jaccard = val_scores\n",
    "    \n",
    "        history['Train Loss'].append(train_loss)\n",
    "        history['Valid Loss'].append(val_loss)\n",
    "        history['Valid Dice'].append(val_dice)\n",
    "        history['Valid Jaccard'].append(val_jaccard)\n",
    "        \n",
    "        # Log the metrics\n",
    "        wandb.log({\"Train Loss\": train_loss, \n",
    "                   \"Valid Loss\": val_loss,\n",
    "                   \"Valid Dice\": val_dice,\n",
    "                   \"Valid Jaccard\": val_jaccard,\n",
    "                   \"LR\":scheduler.get_last_lr()[0]})\n",
    "        \n",
    "        print(f'Valid Dice: {val_dice:0.4f} | Valid Jaccard: {val_jaccard:0.4f}')\n",
    "        \n",
    "        # deep copy the model\n",
    "        if val_dice >= best_dice:\n",
    "            print(f\"{c_}Valid Score Improved ({best_dice:0.4f} ---> {val_dice:0.4f})\")\n",
    "            best_dice    = val_dice\n",
    "            best_jaccard = val_jaccard\n",
    "            best_epoch   = epoch\n",
    "            run.summary[\"Best Dice\"]    = best_dice\n",
    "            run.summary[\"Best Jaccard\"] = best_jaccard\n",
    "            run.summary[\"Best Epoch\"]   = best_epoch\n",
    "            best_model_wts = copy.deepcopy(model.state_dict())\n",
    "            PATH = f\"best_epoch-{fold:02d}.bin\"\n",
    "            torch.save(model.state_dict(), PATH)\n",
    "            # Save a model file from the current directory\n",
    "            wandb.save(PATH)\n",
    "            print(f\"Model Saved{sr_}\")\n",
    "            \n",
    "        last_model_wts = copy.deepcopy(model.state_dict())\n",
    "        PATH = f\"last_epoch-{fold:02d}.bin\"\n",
    "        torch.save(model.state_dict(), PATH)\n",
    "            \n",
    "        print(); print()\n",
    "    \n",
    "    end = time.time()\n",
    "    time_elapsed = end - start\n",
    "    print('Training complete in {:.0f}h {:.0f}m {:.0f}s'.format(\n",
    "        time_elapsed // 3600, (time_elapsed % 3600) // 60, (time_elapsed % 3600) % 60))\n",
    "    print(\"Best Score: {:.4f}\".format(best_jaccard))\n",
    "    \n",
    "    # load best model weights\n",
    "    model.load_state_dict(best_model_wts)\n",
    "    \n",
    "    return model, history"
   ]
  },
  {
   "cell_type": "markdown",
   "id": "2c82aa2d",
   "metadata": {
    "papermill": {
     "duration": 0.044577,
     "end_time": "2022-04-27T16:59:44.218947",
     "exception": false,
     "start_time": "2022-04-27T16:59:44.174370",
     "status": "completed"
    },
    "tags": []
   },
   "source": [
    "# 🔍 Optimizer\n",
    "\n",
    "<img src=\"https://mlfromscratch.com/content/images/2019/12/saddle.gif\" width=500>"
   ]
  },
  {
   "cell_type": "code",
   "execution_count": 30,
   "id": "0473d299",
   "metadata": {
    "execution": {
     "iopub.execute_input": "2022-04-27T16:59:44.316671Z",
     "iopub.status.busy": "2022-04-27T16:59:44.315840Z",
     "iopub.status.idle": "2022-04-27T16:59:44.395558Z",
     "shell.execute_reply": "2022-04-27T16:59:44.395046Z",
     "shell.execute_reply.started": "2022-04-24T22:52:25.944828Z"
    },
    "papermill": {
     "duration": 0.131303,
     "end_time": "2022-04-27T16:59:44.395680",
     "exception": false,
     "start_time": "2022-04-27T16:59:44.264377",
     "status": "completed"
    },
    "tags": []
   },
   "outputs": [],
   "source": [
    "def fetch_scheduler(optimizer):\n",
    "    if CFG.scheduler == 'CosineAnnealingLR':\n",
    "        scheduler = lr_scheduler.CosineAnnealingLR(optimizer,T_max=CFG.T_max, \n",
    "                                                   eta_min=CFG.min_lr)\n",
    "    elif CFG.scheduler == 'CosineAnnealingWarmRestarts':\n",
    "        scheduler = lr_scheduler.CosineAnnealingWarmRestarts(optimizer,T_0=CFG.T_0, \n",
    "                                                             eta_min=CFG.min_lr)\n",
    "    elif CFG.scheduler == 'ReduceLROnPlateau':\n",
    "        scheduler = lr_scheduler.ReduceLROnPlateau(optimizer,\n",
    "                                                   mode='min',\n",
    "                                                   factor=0.1,\n",
    "                                                   patience=7,\n",
    "                                                   threshold=0.0001,\n",
    "                                                   min_lr=CFG.min_lr,)\n",
    "    elif CFG.scheduer == 'ExponentialLR':\n",
    "        scheduler = lr_scheduler.ExponentialLR(optimizer, gamma=0.85)\n",
    "    elif CFG.scheduler == None:\n",
    "        return None\n",
    "        \n",
    "    return scheduler"
   ]
  },
  {
   "cell_type": "code",
   "execution_count": 31,
   "id": "38042a57",
   "metadata": {
    "execution": {
     "iopub.execute_input": "2022-04-27T16:59:44.490789Z",
     "iopub.status.busy": "2022-04-27T16:59:44.489987Z",
     "iopub.status.idle": "2022-04-27T16:59:45.593212Z",
     "shell.execute_reply": "2022-04-27T16:59:45.592655Z",
     "shell.execute_reply.started": "2022-04-24T22:52:47.450045Z"
    },
    "papermill": {
     "duration": 1.15169,
     "end_time": "2022-04-27T16:59:45.593358",
     "exception": false,
     "start_time": "2022-04-27T16:59:44.441668",
     "status": "completed"
    },
    "tags": []
   },
   "outputs": [
    {
     "name": "stderr",
     "output_type": "stream",
     "text": [
      "Downloading: \"https://github.com/lukemelas/EfficientNet-PyTorch/releases/download/1.0/efficientnet-b1-f1951068.pth\" to D:\\TORCH_HOME\\hub\\checkpoints\\efficientnet-b1-f1951068.pth\n",
      "100%|██████████| 30.1M/30.1M [00:00<00:00, 34.8MB/s]\n"
     ]
    }
   ],
   "source": [
    "model = build_model()\n",
    "optimizer = optim.Adam(model.parameters(), lr=CFG.lr, weight_decay=CFG.wd)\n",
    "scheduler = fetch_scheduler(optimizer)"
   ]
  },
  {
   "cell_type": "markdown",
   "id": "bd0c49bb",
   "metadata": {
    "papermill": {
     "duration": 0.047992,
     "end_time": "2022-04-27T16:59:45.687283",
     "exception": false,
     "start_time": "2022-04-27T16:59:45.639291",
     "status": "completed"
    },
    "tags": []
   },
   "source": [
    "# 🚅 Training"
   ]
  },
  {
   "cell_type": "code",
   "execution_count": 32,
   "id": "b61a8e19",
   "metadata": {
    "_kg_hide-output": true,
    "execution": {
     "iopub.execute_input": "2022-04-27T16:59:45.786383Z",
     "iopub.status.busy": "2022-04-27T16:59:45.785681Z",
     "iopub.status.idle": "2022-04-27T19:54:28.863725Z",
     "shell.execute_reply": "2022-04-27T19:54:28.864185Z"
    },
    "papermill": {
     "duration": 10483.132041,
     "end_time": "2022-04-27T19:54:28.864366",
     "exception": false,
     "start_time": "2022-04-27T16:59:45.732325",
     "status": "completed"
    },
    "tags": []
   },
   "outputs": [
    {
     "name": "stdout",
     "output_type": "stream",
     "text": [
      "###############\n",
      "### Fold: 0\n",
      "###############\n"
     ]
    },
    {
     "data": {
      "text/html": [
       "Tracking run with wandb version 0.15.8"
      ],
      "text/plain": [
       "<IPython.core.display.HTML object>"
      ]
     },
     "metadata": {},
     "output_type": "display_data"
    },
    {
     "data": {
      "text/html": [
       "Run data is saved locally in <code>d:\\code_medimg_practice\\medical_image_practice\\03a_uw_madison\\wandb\\run-20230815_010129-ab9wqb4l</code>"
      ],
      "text/plain": [
       "<IPython.core.display.HTML object>"
      ]
     },
     "metadata": {},
     "output_type": "display_data"
    },
    {
     "data": {
      "text/html": [
       "Syncing run <strong><a href='https://wandb.ai/cwinsor/uw-maddison-gi-tract/runs/ab9wqb4l' target=\"_blank\">fold-0|dim-224x224|model-Unet</a></strong> to <a href='https://wandb.ai/cwinsor/uw-maddison-gi-tract' target=\"_blank\">Weights & Biases</a> (<a href='https://wandb.me/run' target=\"_blank\">docs</a>)<br/>"
      ],
      "text/plain": [
       "<IPython.core.display.HTML object>"
      ]
     },
     "metadata": {},
     "output_type": "display_data"
    },
    {
     "data": {
      "text/html": [
       " View project at <a href='https://wandb.ai/cwinsor/uw-maddison-gi-tract' target=\"_blank\">https://wandb.ai/cwinsor/uw-maddison-gi-tract</a>"
      ],
      "text/plain": [
       "<IPython.core.display.HTML object>"
      ]
     },
     "metadata": {},
     "output_type": "display_data"
    },
    {
     "data": {
      "text/html": [
       " View run at <a href='https://wandb.ai/cwinsor/uw-maddison-gi-tract/runs/ab9wqb4l' target=\"_blank\">https://wandb.ai/cwinsor/uw-maddison-gi-tract/runs/ab9wqb4l</a>"
      ],
      "text/plain": [
       "<IPython.core.display.HTML object>"
      ]
     },
     "metadata": {},
     "output_type": "display_data"
    },
    {
     "name": "stdout",
     "output_type": "stream",
     "text": [
      "cuda: NVIDIA GeForce RTX 3060\n",
      "\n",
      "Epoch 1/15"
     ]
    },
    {
     "name": "stderr",
     "output_type": "stream",
     "text": [
      "Train :  20%|██        | 96/480 [07:42<30:51,  4.82s/it, gpu_mem=6.49 GB, lr=0.00200, train_loss=0.2391]\n"
     ]
    },
    {
     "ename": "KeyboardInterrupt",
     "evalue": "",
     "output_type": "error",
     "traceback": [
      "\u001b[1;31m---------------------------------------------------------------------------\u001b[0m",
      "\u001b[1;31mKeyboardInterrupt\u001b[0m                         Traceback (most recent call last)",
      "Cell \u001b[1;32mIn[32], line 15\u001b[0m\n\u001b[0;32m     13\u001b[0m optimizer \u001b[39m=\u001b[39m optim\u001b[39m.\u001b[39mAdam(model\u001b[39m.\u001b[39mparameters(), lr\u001b[39m=\u001b[39mCFG\u001b[39m.\u001b[39mlr, weight_decay\u001b[39m=\u001b[39mCFG\u001b[39m.\u001b[39mwd)\n\u001b[0;32m     14\u001b[0m scheduler \u001b[39m=\u001b[39m fetch_scheduler(optimizer)\n\u001b[1;32m---> 15\u001b[0m model, history \u001b[39m=\u001b[39m run_training(model, optimizer, scheduler,\n\u001b[0;32m     16\u001b[0m                               device\u001b[39m=\u001b[39;49mCFG\u001b[39m.\u001b[39;49mdevice,\n\u001b[0;32m     17\u001b[0m                               num_epochs\u001b[39m=\u001b[39;49mCFG\u001b[39m.\u001b[39;49mepochs)\n\u001b[0;32m     18\u001b[0m run\u001b[39m.\u001b[39mfinish()\n\u001b[0;32m     19\u001b[0m display(ipd\u001b[39m.\u001b[39mIFrame(run\u001b[39m.\u001b[39murl, width\u001b[39m=\u001b[39m\u001b[39m1000\u001b[39m, height\u001b[39m=\u001b[39m\u001b[39m720\u001b[39m))\n",
      "Cell \u001b[1;32mIn[29], line 17\u001b[0m, in \u001b[0;36mrun_training\u001b[1;34m(model, optimizer, scheduler, device, num_epochs)\u001b[0m\n\u001b[0;32m     15\u001b[0m gc\u001b[39m.\u001b[39mcollect()\n\u001b[0;32m     16\u001b[0m \u001b[39mprint\u001b[39m(\u001b[39mf\u001b[39m\u001b[39m'\u001b[39m\u001b[39mEpoch \u001b[39m\u001b[39m{\u001b[39;00mepoch\u001b[39m}\u001b[39;00m\u001b[39m/\u001b[39m\u001b[39m{\u001b[39;00mnum_epochs\u001b[39m}\u001b[39;00m\u001b[39m'\u001b[39m, end\u001b[39m=\u001b[39m\u001b[39m'\u001b[39m\u001b[39m'\u001b[39m)\n\u001b[1;32m---> 17\u001b[0m train_loss \u001b[39m=\u001b[39m train_one_epoch(model, optimizer, scheduler, \n\u001b[0;32m     18\u001b[0m                                    dataloader\u001b[39m=\u001b[39;49mtrain_loader, \n\u001b[0;32m     19\u001b[0m                                    device\u001b[39m=\u001b[39;49mCFG\u001b[39m.\u001b[39;49mdevice, epoch\u001b[39m=\u001b[39;49mepoch)\n\u001b[0;32m     21\u001b[0m val_loss, val_scores \u001b[39m=\u001b[39m valid_one_epoch(model, valid_loader, \n\u001b[0;32m     22\u001b[0m                                          device\u001b[39m=\u001b[39mCFG\u001b[39m.\u001b[39mdevice, \n\u001b[0;32m     23\u001b[0m                                          epoch\u001b[39m=\u001b[39mepoch)\n\u001b[0;32m     24\u001b[0m val_dice, val_jaccard \u001b[39m=\u001b[39m val_scores\n",
      "Cell \u001b[1;32mIn[27], line 9\u001b[0m, in \u001b[0;36mtrain_one_epoch\u001b[1;34m(model, optimizer, scheduler, dataloader, device, epoch)\u001b[0m\n\u001b[0;32m      6\u001b[0m running_loss \u001b[39m=\u001b[39m \u001b[39m0.0\u001b[39m\n\u001b[0;32m      8\u001b[0m pbar \u001b[39m=\u001b[39m tqdm(\u001b[39menumerate\u001b[39m(dataloader), total\u001b[39m=\u001b[39m\u001b[39mlen\u001b[39m(dataloader), desc\u001b[39m=\u001b[39m\u001b[39m'\u001b[39m\u001b[39mTrain \u001b[39m\u001b[39m'\u001b[39m)\n\u001b[1;32m----> 9\u001b[0m \u001b[39mfor\u001b[39;00m step, (images, masks) \u001b[39min\u001b[39;00m pbar:         \n\u001b[0;32m     10\u001b[0m     images \u001b[39m=\u001b[39m images\u001b[39m.\u001b[39mto(device, dtype\u001b[39m=\u001b[39mtorch\u001b[39m.\u001b[39mfloat)\n\u001b[0;32m     11\u001b[0m     masks  \u001b[39m=\u001b[39m masks\u001b[39m.\u001b[39mto(device, dtype\u001b[39m=\u001b[39mtorch\u001b[39m.\u001b[39mfloat)\n",
      "File \u001b[1;32mc:\\Users\\chris\\anaconda3\\envs\\pytorch_f_cuda_11_7_umadison\\lib\\site-packages\\tqdm\\std.py:1182\u001b[0m, in \u001b[0;36mtqdm.__iter__\u001b[1;34m(self)\u001b[0m\n\u001b[0;32m   1179\u001b[0m time \u001b[39m=\u001b[39m \u001b[39mself\u001b[39m\u001b[39m.\u001b[39m_time\n\u001b[0;32m   1181\u001b[0m \u001b[39mtry\u001b[39;00m:\n\u001b[1;32m-> 1182\u001b[0m     \u001b[39mfor\u001b[39;00m obj \u001b[39min\u001b[39;00m iterable:\n\u001b[0;32m   1183\u001b[0m         \u001b[39myield\u001b[39;00m obj\n\u001b[0;32m   1184\u001b[0m         \u001b[39m# Update and possibly print the progressbar.\u001b[39;00m\n\u001b[0;32m   1185\u001b[0m         \u001b[39m# Note: does not call self.update(1) for speed optimisation.\u001b[39;00m\n",
      "File \u001b[1;32mc:\\Users\\chris\\anaconda3\\envs\\pytorch_f_cuda_11_7_umadison\\lib\\site-packages\\torch\\utils\\data\\dataloader.py:633\u001b[0m, in \u001b[0;36m_BaseDataLoaderIter.__next__\u001b[1;34m(self)\u001b[0m\n\u001b[0;32m    630\u001b[0m \u001b[39mif\u001b[39;00m \u001b[39mself\u001b[39m\u001b[39m.\u001b[39m_sampler_iter \u001b[39mis\u001b[39;00m \u001b[39mNone\u001b[39;00m:\n\u001b[0;32m    631\u001b[0m     \u001b[39m# TODO(https://github.com/pytorch/pytorch/issues/76750)\u001b[39;00m\n\u001b[0;32m    632\u001b[0m     \u001b[39mself\u001b[39m\u001b[39m.\u001b[39m_reset()  \u001b[39m# type: ignore[call-arg]\u001b[39;00m\n\u001b[1;32m--> 633\u001b[0m data \u001b[39m=\u001b[39m \u001b[39mself\u001b[39;49m\u001b[39m.\u001b[39;49m_next_data()\n\u001b[0;32m    634\u001b[0m \u001b[39mself\u001b[39m\u001b[39m.\u001b[39m_num_yielded \u001b[39m+\u001b[39m\u001b[39m=\u001b[39m \u001b[39m1\u001b[39m\n\u001b[0;32m    635\u001b[0m \u001b[39mif\u001b[39;00m \u001b[39mself\u001b[39m\u001b[39m.\u001b[39m_dataset_kind \u001b[39m==\u001b[39m _DatasetKind\u001b[39m.\u001b[39mIterable \u001b[39mand\u001b[39;00m \\\n\u001b[0;32m    636\u001b[0m         \u001b[39mself\u001b[39m\u001b[39m.\u001b[39m_IterableDataset_len_called \u001b[39mis\u001b[39;00m \u001b[39mnot\u001b[39;00m \u001b[39mNone\u001b[39;00m \u001b[39mand\u001b[39;00m \\\n\u001b[0;32m    637\u001b[0m         \u001b[39mself\u001b[39m\u001b[39m.\u001b[39m_num_yielded \u001b[39m>\u001b[39m \u001b[39mself\u001b[39m\u001b[39m.\u001b[39m_IterableDataset_len_called:\n",
      "File \u001b[1;32mc:\\Users\\chris\\anaconda3\\envs\\pytorch_f_cuda_11_7_umadison\\lib\\site-packages\\torch\\utils\\data\\dataloader.py:677\u001b[0m, in \u001b[0;36m_SingleProcessDataLoaderIter._next_data\u001b[1;34m(self)\u001b[0m\n\u001b[0;32m    675\u001b[0m \u001b[39mdef\u001b[39;00m \u001b[39m_next_data\u001b[39m(\u001b[39mself\u001b[39m):\n\u001b[0;32m    676\u001b[0m     index \u001b[39m=\u001b[39m \u001b[39mself\u001b[39m\u001b[39m.\u001b[39m_next_index()  \u001b[39m# may raise StopIteration\u001b[39;00m\n\u001b[1;32m--> 677\u001b[0m     data \u001b[39m=\u001b[39m \u001b[39mself\u001b[39;49m\u001b[39m.\u001b[39;49m_dataset_fetcher\u001b[39m.\u001b[39;49mfetch(index)  \u001b[39m# may raise StopIteration\u001b[39;00m\n\u001b[0;32m    678\u001b[0m     \u001b[39mif\u001b[39;00m \u001b[39mself\u001b[39m\u001b[39m.\u001b[39m_pin_memory:\n\u001b[0;32m    679\u001b[0m         data \u001b[39m=\u001b[39m _utils\u001b[39m.\u001b[39mpin_memory\u001b[39m.\u001b[39mpin_memory(data, \u001b[39mself\u001b[39m\u001b[39m.\u001b[39m_pin_memory_device)\n",
      "File \u001b[1;32mc:\\Users\\chris\\anaconda3\\envs\\pytorch_f_cuda_11_7_umadison\\lib\\site-packages\\torch\\utils\\data\\_utils\\fetch.py:51\u001b[0m, in \u001b[0;36m_MapDatasetFetcher.fetch\u001b[1;34m(self, possibly_batched_index)\u001b[0m\n\u001b[0;32m     49\u001b[0m         data \u001b[39m=\u001b[39m \u001b[39mself\u001b[39m\u001b[39m.\u001b[39mdataset\u001b[39m.\u001b[39m__getitems__(possibly_batched_index)\n\u001b[0;32m     50\u001b[0m     \u001b[39melse\u001b[39;00m:\n\u001b[1;32m---> 51\u001b[0m         data \u001b[39m=\u001b[39m [\u001b[39mself\u001b[39m\u001b[39m.\u001b[39mdataset[idx] \u001b[39mfor\u001b[39;00m idx \u001b[39min\u001b[39;00m possibly_batched_index]\n\u001b[0;32m     52\u001b[0m \u001b[39melse\u001b[39;00m:\n\u001b[0;32m     53\u001b[0m     data \u001b[39m=\u001b[39m \u001b[39mself\u001b[39m\u001b[39m.\u001b[39mdataset[possibly_batched_index]\n",
      "File \u001b[1;32mc:\\Users\\chris\\anaconda3\\envs\\pytorch_f_cuda_11_7_umadison\\lib\\site-packages\\torch\\utils\\data\\_utils\\fetch.py:51\u001b[0m, in \u001b[0;36m<listcomp>\u001b[1;34m(.0)\u001b[0m\n\u001b[0;32m     49\u001b[0m         data \u001b[39m=\u001b[39m \u001b[39mself\u001b[39m\u001b[39m.\u001b[39mdataset\u001b[39m.\u001b[39m__getitems__(possibly_batched_index)\n\u001b[0;32m     50\u001b[0m     \u001b[39melse\u001b[39;00m:\n\u001b[1;32m---> 51\u001b[0m         data \u001b[39m=\u001b[39m [\u001b[39mself\u001b[39;49m\u001b[39m.\u001b[39;49mdataset[idx] \u001b[39mfor\u001b[39;00m idx \u001b[39min\u001b[39;00m possibly_batched_index]\n\u001b[0;32m     52\u001b[0m \u001b[39melse\u001b[39;00m:\n\u001b[0;32m     53\u001b[0m     data \u001b[39m=\u001b[39m \u001b[39mself\u001b[39m\u001b[39m.\u001b[39mdataset[possibly_batched_index]\n",
      "Cell \u001b[1;32mIn[16], line 22\u001b[0m, in \u001b[0;36mBuildDataset.__getitem__\u001b[1;34m(self, index)\u001b[0m\n\u001b[0;32m     20\u001b[0m msk_path \u001b[39m=\u001b[39m \u001b[39mself\u001b[39m\u001b[39m.\u001b[39mmsk_paths[index]\n\u001b[0;32m     21\u001b[0m \u001b[39m# print(f\"zonaB - load_msk index {index} msk_path {msk_path}\",flush=True) \u001b[39;00m\n\u001b[1;32m---> 22\u001b[0m msk \u001b[39m=\u001b[39m load_msk(msk_path)\n\u001b[0;32m     23\u001b[0m \u001b[39m# print(f\"zonaC1 - img.shape {img.shape} msk.shape {msk.shape}\",flush=True)\u001b[39;00m\n\u001b[0;32m     24\u001b[0m \u001b[39mif\u001b[39;00m \u001b[39mself\u001b[39m\u001b[39m.\u001b[39mtransforms:\n\u001b[0;32m     25\u001b[0m     \u001b[39m# print(f\"zonaC2 - applying transforms {0}\",flush=True) \u001b[39;00m\n",
      "Cell \u001b[1;32mIn[13], line 12\u001b[0m, in \u001b[0;36mload_msk\u001b[1;34m(path)\u001b[0m\n\u001b[0;32m     11\u001b[0m \u001b[39mdef\u001b[39;00m \u001b[39mload_msk\u001b[39m(path):\n\u001b[1;32m---> 12\u001b[0m     msk \u001b[39m=\u001b[39m np\u001b[39m.\u001b[39;49mload(path)\n\u001b[0;32m     13\u001b[0m     msk \u001b[39m=\u001b[39m msk\u001b[39m.\u001b[39mastype(\u001b[39m'\u001b[39m\u001b[39mfloat32\u001b[39m\u001b[39m'\u001b[39m)\n\u001b[0;32m     14\u001b[0m     msk\u001b[39m/\u001b[39m\u001b[39m=\u001b[39m\u001b[39m255.0\u001b[39m\n",
      "File \u001b[1;32m~\\AppData\\Roaming\\Python\\Python39\\site-packages\\numpy\\lib\\npyio.py:427\u001b[0m, in \u001b[0;36mload\u001b[1;34m(file, mmap_mode, allow_pickle, fix_imports, encoding, max_header_size)\u001b[0m\n\u001b[0;32m    425\u001b[0m     own_fid \u001b[39m=\u001b[39m \u001b[39mFalse\u001b[39;00m\n\u001b[0;32m    426\u001b[0m \u001b[39melse\u001b[39;00m:\n\u001b[1;32m--> 427\u001b[0m     fid \u001b[39m=\u001b[39m stack\u001b[39m.\u001b[39menter_context(\u001b[39mopen\u001b[39;49m(os_fspath(file), \u001b[39m\"\u001b[39;49m\u001b[39mrb\u001b[39;49m\u001b[39m\"\u001b[39;49m))\n\u001b[0;32m    428\u001b[0m     own_fid \u001b[39m=\u001b[39m \u001b[39mTrue\u001b[39;00m\n\u001b[0;32m    430\u001b[0m \u001b[39m# Code to distinguish from NumPy binary files and pickles.\u001b[39;00m\n",
      "\u001b[1;31mKeyboardInterrupt\u001b[0m: "
     ]
    }
   ],
   "source": [
    "for fold in range(1):\n",
    "    print(f'#'*15)\n",
    "    print(f'### Fold: {fold}')\n",
    "    print(f'#'*15)\n",
    "    run = wandb.init(project='uw-maddison-gi-tract', \n",
    "                     config={k:v for k, v in dict(vars(CFG)).items() if '__' not in k},\n",
    "                     anonymous='never',\n",
    "                     name=f\"fold-{fold}|dim-{CFG.img_size[0]}x{CFG.img_size[1]}|model-{CFG.model_name}\",\n",
    "                     group=CFG.comment,\n",
    "                    )\n",
    "    train_loader, valid_loader = prepare_loaders(fold=fold, debug=CFG.debug)\n",
    "    model     = build_model()\n",
    "    optimizer = optim.Adam(model.parameters(), lr=CFG.lr, weight_decay=CFG.wd)\n",
    "    scheduler = fetch_scheduler(optimizer)\n",
    "    model, history = run_training(model, optimizer, scheduler,\n",
    "                                  device=CFG.device,\n",
    "                                  num_epochs=CFG.epochs)\n",
    "    run.finish()\n",
    "    display(ipd.IFrame(run.url, width=1000, height=720))"
   ]
  },
  {
   "cell_type": "markdown",
   "id": "c894cfe0",
   "metadata": {
    "papermill": {
     "duration": 2.247929,
     "end_time": "2022-04-27T19:54:33.574667",
     "exception": false,
     "start_time": "2022-04-27T19:54:31.326738",
     "status": "completed"
    },
    "tags": []
   },
   "source": [
    "# 🔭 Prediction"
   ]
  },
  {
   "cell_type": "code",
   "execution_count": null,
   "id": "83cace61",
   "metadata": {
    "execution": {
     "iopub.execute_input": "2022-04-27T19:54:38.105019Z",
     "iopub.status.busy": "2022-04-27T19:54:38.104360Z",
     "iopub.status.idle": "2022-04-27T19:54:39.436273Z",
     "shell.execute_reply": "2022-04-27T19:54:39.435706Z"
    },
    "papermill": {
     "duration": 3.578904,
     "end_time": "2022-04-27T19:54:39.436426",
     "exception": false,
     "start_time": "2022-04-27T19:54:35.857522",
     "status": "completed"
    },
    "tags": []
   },
   "outputs": [],
   "source": [
    "test_dataset = BuildDataset(df.query(\"fold==0 & empty==0\").sample(frac=1.0), label=False, \n",
    "                            transforms=data_transforms['valid'])\n",
    "test_loader  = DataLoader(test_dataset, batch_size=5, \n",
    "                          num_workers=4, shuffle=False, pin_memory=True)\n",
    "imgs = next(iter(test_loader))\n",
    "imgs = imgs.to(CFG.device, dtype=torch.float)\n",
    "\n",
    "preds = []\n",
    "for fold in range(1):\n",
    "    model = load_model(f\"best_epoch-{fold:02d}.bin\")\n",
    "    with torch.no_grad():\n",
    "        pred = model(imgs)\n",
    "        pred = (nn.Sigmoid()(pred)>0.5).double()\n",
    "    preds.append(pred)\n",
    "    \n",
    "imgs  = imgs.cpu().detach()\n",
    "preds = torch.mean(torch.stack(preds, dim=0), dim=0).cpu().detach()"
   ]
  },
  {
   "cell_type": "code",
   "execution_count": null,
   "id": "1245cbfe",
   "metadata": {
    "execution": {
     "iopub.execute_input": "2022-04-27T19:54:44.200174Z",
     "iopub.status.busy": "2022-04-27T19:54:44.199296Z",
     "iopub.status.idle": "2022-04-27T19:54:45.083096Z",
     "shell.execute_reply": "2022-04-27T19:54:45.083518Z"
    },
    "papermill": {
     "duration": 3.226754,
     "end_time": "2022-04-27T19:54:45.083666",
     "exception": false,
     "start_time": "2022-04-27T19:54:41.856912",
     "status": "completed"
    },
    "tags": []
   },
   "outputs": [],
   "source": [
    "plot_batch(imgs, preds, size=5)"
   ]
  },
  {
   "cell_type": "markdown",
   "id": "8eac6f46",
   "metadata": {
    "papermill": {
     "duration": 2.252636,
     "end_time": "2022-04-27T19:54:49.545261",
     "exception": false,
     "start_time": "2022-04-27T19:54:47.292625",
     "status": "completed"
    },
    "tags": []
   },
   "source": [
    "# ✂️ Remove Files"
   ]
  },
  {
   "cell_type": "code",
   "execution_count": null,
   "id": "7a6755ec",
   "metadata": {
    "execution": {
     "iopub.execute_input": "2022-04-27T19:54:54.290537Z",
     "iopub.status.busy": "2022-04-27T19:54:54.289713Z",
     "iopub.status.idle": "2022-04-27T19:54:55.153413Z",
     "shell.execute_reply": "2022-04-27T19:54:55.152663Z"
    },
    "papermill": {
     "duration": 3.3708,
     "end_time": "2022-04-27T19:54:55.153555",
     "exception": false,
     "start_time": "2022-04-27T19:54:51.782755",
     "status": "completed"
    },
    "tags": []
   },
   "outputs": [],
   "source": [
    "!rm -r ./wandb"
   ]
  }
 ],
 "metadata": {
  "kernelspec": {
   "display_name": "Python 3",
   "language": "python",
   "name": "python3"
  },
  "language_info": {
   "codemirror_mode": {
    "name": "ipython",
    "version": 3
   },
   "file_extension": ".py",
   "mimetype": "text/x-python",
   "name": "python",
   "nbconvert_exporter": "python",
   "pygments_lexer": "ipython3",
   "version": "3.9.17"
  },
  "papermill": {
   "default_parameters": {},
   "duration": 10589.228387,
   "end_time": "2022-04-27T19:55:01.094081",
   "environment_variables": {},
   "exception": null,
   "input_path": "__notebook__.ipynb",
   "output_path": "__notebook__.ipynb",
   "parameters": {},
   "start_time": "2022-04-27T16:58:31.865694",
   "version": "2.3.3"
  },
  "widgets": {
   "application/vnd.jupyter.widget-state+json": {
    "state": {
     "0c06f6ec236741499a2f22fd1f4d7ee5": {
      "model_module": "@jupyter-widgets/controls",
      "model_module_version": "1.5.0",
      "model_name": "ProgressStyleModel",
      "state": {
       "_model_module": "@jupyter-widgets/controls",
       "_model_module_version": "1.5.0",
       "_model_name": "ProgressStyleModel",
       "_view_count": null,
       "_view_module": "@jupyter-widgets/base",
       "_view_module_version": "1.2.0",
       "_view_name": "StyleView",
       "bar_color": null,
       "description_width": ""
      }
     },
     "12ed8e33192a4beca325b56b78afea03": {
      "model_module": "@jupyter-widgets/base",
      "model_module_version": "1.2.0",
      "model_name": "LayoutModel",
      "state": {
       "_model_module": "@jupyter-widgets/base",
       "_model_module_version": "1.2.0",
       "_model_name": "LayoutModel",
       "_view_count": null,
       "_view_module": "@jupyter-widgets/base",
       "_view_module_version": "1.2.0",
       "_view_name": "LayoutView",
       "align_content": null,
       "align_items": null,
       "align_self": null,
       "border": null,
       "bottom": null,
       "display": null,
       "flex": null,
       "flex_flow": null,
       "grid_area": null,
       "grid_auto_columns": null,
       "grid_auto_flow": null,
       "grid_auto_rows": null,
       "grid_column": null,
       "grid_gap": null,
       "grid_row": null,
       "grid_template_areas": null,
       "grid_template_columns": null,
       "grid_template_rows": null,
       "height": null,
       "justify_content": null,
       "justify_items": null,
       "left": null,
       "margin": null,
       "max_height": null,
       "max_width": null,
       "min_height": null,
       "min_width": null,
       "object_fit": null,
       "object_position": null,
       "order": null,
       "overflow": null,
       "overflow_x": null,
       "overflow_y": null,
       "padding": null,
       "right": null,
       "top": null,
       "visibility": null,
       "width": null
      }
     },
     "1d4d1ea3db5a44dbbb9416598b4adbfc": {
      "model_module": "@jupyter-widgets/controls",
      "model_module_version": "1.5.0",
      "model_name": "HTMLModel",
      "state": {
       "_dom_classes": [],
       "_model_module": "@jupyter-widgets/controls",
       "_model_module_version": "1.5.0",
       "_model_name": "HTMLModel",
       "_view_count": null,
       "_view_module": "@jupyter-widgets/controls",
       "_view_module_version": "1.5.0",
       "_view_name": "HTMLView",
       "description": "",
       "description_tooltip": null,
       "layout": "IPY_MODEL_31bd38777b0042eca186850609e128a8",
       "placeholder": "​",
       "style": "IPY_MODEL_b366751b3c8f416aa12b0385e8127a34",
       "value": " 30.1M/30.1M [00:00&lt;00:00, 78.0MB/s]"
      }
     },
     "234b785e504148b9a6813b10596abe0e": {
      "model_module": "@jupyter-widgets/controls",
      "model_module_version": "1.5.0",
      "model_name": "LabelModel",
      "state": {
       "_dom_classes": [],
       "_model_module": "@jupyter-widgets/controls",
       "_model_module_version": "1.5.0",
       "_model_name": "LabelModel",
       "_view_count": null,
       "_view_module": "@jupyter-widgets/controls",
       "_view_module_version": "1.5.0",
       "_view_name": "LabelView",
       "description": "",
       "description_tooltip": null,
       "layout": "IPY_MODEL_6e87f8801c1543f9abf0ef0a00591a94",
       "placeholder": "​",
       "style": "IPY_MODEL_dfba90b3b1d544d3818086ad32c438bf",
       "value": ""
      }
     },
     "2a54791b86184cdd90adff077bf6bdee": {
      "model_module": "@jupyter-widgets/controls",
      "model_module_version": "1.5.0",
      "model_name": "FloatProgressModel",
      "state": {
       "_dom_classes": [],
       "_model_module": "@jupyter-widgets/controls",
       "_model_module_version": "1.5.0",
       "_model_name": "FloatProgressModel",
       "_view_count": null,
       "_view_module": "@jupyter-widgets/controls",
       "_view_module_version": "1.5.0",
       "_view_name": "ProgressView",
       "bar_style": "success",
       "description": "",
       "description_tooltip": null,
       "layout": "IPY_MODEL_54159762a6ba4436ae29c8e21869e31c",
       "max": 31519111,
       "min": 0,
       "orientation": "horizontal",
       "style": "IPY_MODEL_0c06f6ec236741499a2f22fd1f4d7ee5",
       "value": 31519111
      }
     },
     "2dbbbdd64a0847afa5c805fed0dc4f33": {
      "model_module": "@jupyter-widgets/controls",
      "model_module_version": "1.5.0",
      "model_name": "LabelModel",
      "state": {
       "_dom_classes": [],
       "_model_module": "@jupyter-widgets/controls",
       "_model_module_version": "1.5.0",
       "_model_name": "LabelModel",
       "_view_count": null,
       "_view_module": "@jupyter-widgets/controls",
       "_view_module_version": "1.5.0",
       "_view_name": "LabelView",
       "description": "",
       "description_tooltip": null,
       "layout": "IPY_MODEL_c16b9a93b19643b6ad787cc877ea61bc",
       "placeholder": "​",
       "style": "IPY_MODEL_c5e8d43dd1d944208e4c22a39a4a32db",
       "value": "34.479 MB of 34.479 MB uploaded (0.000 MB deduped)\r"
      }
     },
     "31bd38777b0042eca186850609e128a8": {
      "model_module": "@jupyter-widgets/base",
      "model_module_version": "1.2.0",
      "model_name": "LayoutModel",
      "state": {
       "_model_module": "@jupyter-widgets/base",
       "_model_module_version": "1.2.0",
       "_model_name": "LayoutModel",
       "_view_count": null,
       "_view_module": "@jupyter-widgets/base",
       "_view_module_version": "1.2.0",
       "_view_name": "LayoutView",
       "align_content": null,
       "align_items": null,
       "align_self": null,
       "border": null,
       "bottom": null,
       "display": null,
       "flex": null,
       "flex_flow": null,
       "grid_area": null,
       "grid_auto_columns": null,
       "grid_auto_flow": null,
       "grid_auto_rows": null,
       "grid_column": null,
       "grid_gap": null,
       "grid_row": null,
       "grid_template_areas": null,
       "grid_template_columns": null,
       "grid_template_rows": null,
       "height": null,
       "justify_content": null,
       "justify_items": null,
       "left": null,
       "margin": null,
       "max_height": null,
       "max_width": null,
       "min_height": null,
       "min_width": null,
       "object_fit": null,
       "object_position": null,
       "order": null,
       "overflow": null,
       "overflow_x": null,
       "overflow_y": null,
       "padding": null,
       "right": null,
       "top": null,
       "visibility": null,
       "width": null
      }
     },
     "4d2f6500852a4b1a97c730e48a619d7f": {
      "model_module": "@jupyter-widgets/controls",
      "model_module_version": "1.5.0",
      "model_name": "HTMLModel",
      "state": {
       "_dom_classes": [],
       "_model_module": "@jupyter-widgets/controls",
       "_model_module_version": "1.5.0",
       "_model_name": "HTMLModel",
       "_view_count": null,
       "_view_module": "@jupyter-widgets/controls",
       "_view_module_version": "1.5.0",
       "_view_name": "HTMLView",
       "description": "",
       "description_tooltip": null,
       "layout": "IPY_MODEL_9be69c6c894b40a782bbde210e99bbbf",
       "placeholder": "​",
       "style": "IPY_MODEL_a593e3d53d5241a782beaee89b61c537",
       "value": "100%"
      }
     },
     "54159762a6ba4436ae29c8e21869e31c": {
      "model_module": "@jupyter-widgets/base",
      "model_module_version": "1.2.0",
      "model_name": "LayoutModel",
      "state": {
       "_model_module": "@jupyter-widgets/base",
       "_model_module_version": "1.2.0",
       "_model_name": "LayoutModel",
       "_view_count": null,
       "_view_module": "@jupyter-widgets/base",
       "_view_module_version": "1.2.0",
       "_view_name": "LayoutView",
       "align_content": null,
       "align_items": null,
       "align_self": null,
       "border": null,
       "bottom": null,
       "display": null,
       "flex": null,
       "flex_flow": null,
       "grid_area": null,
       "grid_auto_columns": null,
       "grid_auto_flow": null,
       "grid_auto_rows": null,
       "grid_column": null,
       "grid_gap": null,
       "grid_row": null,
       "grid_template_areas": null,
       "grid_template_columns": null,
       "grid_template_rows": null,
       "height": null,
       "justify_content": null,
       "justify_items": null,
       "left": null,
       "margin": null,
       "max_height": null,
       "max_width": null,
       "min_height": null,
       "min_width": null,
       "object_fit": null,
       "object_position": null,
       "order": null,
       "overflow": null,
       "overflow_x": null,
       "overflow_y": null,
       "padding": null,
       "right": null,
       "top": null,
       "visibility": null,
       "width": null
      }
     },
     "6e87f8801c1543f9abf0ef0a00591a94": {
      "model_module": "@jupyter-widgets/base",
      "model_module_version": "1.2.0",
      "model_name": "LayoutModel",
      "state": {
       "_model_module": "@jupyter-widgets/base",
       "_model_module_version": "1.2.0",
       "_model_name": "LayoutModel",
       "_view_count": null,
       "_view_module": "@jupyter-widgets/base",
       "_view_module_version": "1.2.0",
       "_view_name": "LayoutView",
       "align_content": null,
       "align_items": null,
       "align_self": null,
       "border": null,
       "bottom": null,
       "display": null,
       "flex": null,
       "flex_flow": null,
       "grid_area": null,
       "grid_auto_columns": null,
       "grid_auto_flow": null,
       "grid_auto_rows": null,
       "grid_column": null,
       "grid_gap": null,
       "grid_row": null,
       "grid_template_areas": null,
       "grid_template_columns": null,
       "grid_template_rows": null,
       "height": null,
       "justify_content": null,
       "justify_items": null,
       "left": null,
       "margin": null,
       "max_height": null,
       "max_width": null,
       "min_height": null,
       "min_width": null,
       "object_fit": null,
       "object_position": null,
       "order": null,
       "overflow": null,
       "overflow_x": null,
       "overflow_y": null,
       "padding": null,
       "right": null,
       "top": null,
       "visibility": null,
       "width": null
      }
     },
     "7a3e9de607af43cea46f9399abef576a": {
      "model_module": "@jupyter-widgets/controls",
      "model_module_version": "1.5.0",
      "model_name": "VBoxModel",
      "state": {
       "_dom_classes": [],
       "_model_module": "@jupyter-widgets/controls",
       "_model_module_version": "1.5.0",
       "_model_name": "VBoxModel",
       "_view_count": null,
       "_view_module": "@jupyter-widgets/controls",
       "_view_module_version": "1.5.0",
       "_view_name": "VBoxView",
       "box_style": "",
       "children": [
        "IPY_MODEL_234b785e504148b9a6813b10596abe0e",
        "IPY_MODEL_c0a0bcd88a914e55aa7ee6aec6e84ccc"
       ],
       "layout": "IPY_MODEL_7b251076ce3445fdbfb6d63d8f4f11ca"
      }
     },
     "7b251076ce3445fdbfb6d63d8f4f11ca": {
      "model_module": "@jupyter-widgets/base",
      "model_module_version": "1.2.0",
      "model_name": "LayoutModel",
      "state": {
       "_model_module": "@jupyter-widgets/base",
       "_model_module_version": "1.2.0",
       "_model_name": "LayoutModel",
       "_view_count": null,
       "_view_module": "@jupyter-widgets/base",
       "_view_module_version": "1.2.0",
       "_view_name": "LayoutView",
       "align_content": null,
       "align_items": null,
       "align_self": null,
       "border": null,
       "bottom": null,
       "display": null,
       "flex": null,
       "flex_flow": null,
       "grid_area": null,
       "grid_auto_columns": null,
       "grid_auto_flow": null,
       "grid_auto_rows": null,
       "grid_column": null,
       "grid_gap": null,
       "grid_row": null,
       "grid_template_areas": null,
       "grid_template_columns": null,
       "grid_template_rows": null,
       "height": null,
       "justify_content": null,
       "justify_items": null,
       "left": null,
       "margin": null,
       "max_height": null,
       "max_width": null,
       "min_height": null,
       "min_width": null,
       "object_fit": null,
       "object_position": null,
       "order": null,
       "overflow": null,
       "overflow_x": null,
       "overflow_y": null,
       "padding": null,
       "right": null,
       "top": null,
       "visibility": null,
       "width": null
      }
     },
     "7c0261d5d10a4323b4752c23dca343ba": {
      "model_module": "@jupyter-widgets/controls",
      "model_module_version": "1.5.0",
      "model_name": "HBoxModel",
      "state": {
       "_dom_classes": [],
       "_model_module": "@jupyter-widgets/controls",
       "_model_module_version": "1.5.0",
       "_model_name": "HBoxModel",
       "_view_count": null,
       "_view_module": "@jupyter-widgets/controls",
       "_view_module_version": "1.5.0",
       "_view_name": "HBoxView",
       "box_style": "",
       "children": [
        "IPY_MODEL_4d2f6500852a4b1a97c730e48a619d7f",
        "IPY_MODEL_2a54791b86184cdd90adff077bf6bdee",
        "IPY_MODEL_1d4d1ea3db5a44dbbb9416598b4adbfc"
       ],
       "layout": "IPY_MODEL_12ed8e33192a4beca325b56b78afea03"
      }
     },
     "9be69c6c894b40a782bbde210e99bbbf": {
      "model_module": "@jupyter-widgets/base",
      "model_module_version": "1.2.0",
      "model_name": "LayoutModel",
      "state": {
       "_model_module": "@jupyter-widgets/base",
       "_model_module_version": "1.2.0",
       "_model_name": "LayoutModel",
       "_view_count": null,
       "_view_module": "@jupyter-widgets/base",
       "_view_module_version": "1.2.0",
       "_view_name": "LayoutView",
       "align_content": null,
       "align_items": null,
       "align_self": null,
       "border": null,
       "bottom": null,
       "display": null,
       "flex": null,
       "flex_flow": null,
       "grid_area": null,
       "grid_auto_columns": null,
       "grid_auto_flow": null,
       "grid_auto_rows": null,
       "grid_column": null,
       "grid_gap": null,
       "grid_row": null,
       "grid_template_areas": null,
       "grid_template_columns": null,
       "grid_template_rows": null,
       "height": null,
       "justify_content": null,
       "justify_items": null,
       "left": null,
       "margin": null,
       "max_height": null,
       "max_width": null,
       "min_height": null,
       "min_width": null,
       "object_fit": null,
       "object_position": null,
       "order": null,
       "overflow": null,
       "overflow_x": null,
       "overflow_y": null,
       "padding": null,
       "right": null,
       "top": null,
       "visibility": null,
       "width": null
      }
     },
     "a23af2e98ecb492b921259c66383833d": {
      "model_module": "@jupyter-widgets/controls",
      "model_module_version": "1.5.0",
      "model_name": "ProgressStyleModel",
      "state": {
       "_model_module": "@jupyter-widgets/controls",
       "_model_module_version": "1.5.0",
       "_model_name": "ProgressStyleModel",
       "_view_count": null,
       "_view_module": "@jupyter-widgets/base",
       "_view_module_version": "1.2.0",
       "_view_name": "StyleView",
       "bar_color": null,
       "description_width": ""
      }
     },
     "a593e3d53d5241a782beaee89b61c537": {
      "model_module": "@jupyter-widgets/controls",
      "model_module_version": "1.5.0",
      "model_name": "DescriptionStyleModel",
      "state": {
       "_model_module": "@jupyter-widgets/controls",
       "_model_module_version": "1.5.0",
       "_model_name": "DescriptionStyleModel",
       "_view_count": null,
       "_view_module": "@jupyter-widgets/base",
       "_view_module_version": "1.2.0",
       "_view_name": "StyleView",
       "description_width": ""
      }
     },
     "b366751b3c8f416aa12b0385e8127a34": {
      "model_module": "@jupyter-widgets/controls",
      "model_module_version": "1.5.0",
      "model_name": "DescriptionStyleModel",
      "state": {
       "_model_module": "@jupyter-widgets/controls",
       "_model_module_version": "1.5.0",
       "_model_name": "DescriptionStyleModel",
       "_view_count": null,
       "_view_module": "@jupyter-widgets/base",
       "_view_module_version": "1.2.0",
       "_view_name": "StyleView",
       "description_width": ""
      }
     },
     "b751aef0484e456ca4ee72f3d4bdd30d": {
      "model_module": "@jupyter-widgets/base",
      "model_module_version": "1.2.0",
      "model_name": "LayoutModel",
      "state": {
       "_model_module": "@jupyter-widgets/base",
       "_model_module_version": "1.2.0",
       "_model_name": "LayoutModel",
       "_view_count": null,
       "_view_module": "@jupyter-widgets/base",
       "_view_module_version": "1.2.0",
       "_view_name": "LayoutView",
       "align_content": null,
       "align_items": null,
       "align_self": null,
       "border": null,
       "bottom": null,
       "display": null,
       "flex": null,
       "flex_flow": null,
       "grid_area": null,
       "grid_auto_columns": null,
       "grid_auto_flow": null,
       "grid_auto_rows": null,
       "grid_column": null,
       "grid_gap": null,
       "grid_row": null,
       "grid_template_areas": null,
       "grid_template_columns": null,
       "grid_template_rows": null,
       "height": null,
       "justify_content": null,
       "justify_items": null,
       "left": null,
       "margin": null,
       "max_height": null,
       "max_width": null,
       "min_height": null,
       "min_width": null,
       "object_fit": null,
       "object_position": null,
       "order": null,
       "overflow": null,
       "overflow_x": null,
       "overflow_y": null,
       "padding": null,
       "right": null,
       "top": null,
       "visibility": null,
       "width": null
      }
     },
     "c0a0bcd88a914e55aa7ee6aec6e84ccc": {
      "model_module": "@jupyter-widgets/controls",
      "model_module_version": "1.5.0",
      "model_name": "FloatProgressModel",
      "state": {
       "_dom_classes": [],
       "_model_module": "@jupyter-widgets/controls",
       "_model_module_version": "1.5.0",
       "_model_name": "FloatProgressModel",
       "_view_count": null,
       "_view_module": "@jupyter-widgets/controls",
       "_view_module_version": "1.5.0",
       "_view_name": "ProgressView",
       "bar_style": "",
       "description": "",
       "description_tooltip": null,
       "layout": "IPY_MODEL_cd95c859c0624a758ff543adedd8d669",
       "max": 1,
       "min": 0,
       "orientation": "horizontal",
       "style": "IPY_MODEL_a23af2e98ecb492b921259c66383833d",
       "value": 0
      }
     },
     "c16b9a93b19643b6ad787cc877ea61bc": {
      "model_module": "@jupyter-widgets/base",
      "model_module_version": "1.2.0",
      "model_name": "LayoutModel",
      "state": {
       "_model_module": "@jupyter-widgets/base",
       "_model_module_version": "1.2.0",
       "_model_name": "LayoutModel",
       "_view_count": null,
       "_view_module": "@jupyter-widgets/base",
       "_view_module_version": "1.2.0",
       "_view_name": "LayoutView",
       "align_content": null,
       "align_items": null,
       "align_self": null,
       "border": null,
       "bottom": null,
       "display": null,
       "flex": null,
       "flex_flow": null,
       "grid_area": null,
       "grid_auto_columns": null,
       "grid_auto_flow": null,
       "grid_auto_rows": null,
       "grid_column": null,
       "grid_gap": null,
       "grid_row": null,
       "grid_template_areas": null,
       "grid_template_columns": null,
       "grid_template_rows": null,
       "height": null,
       "justify_content": null,
       "justify_items": null,
       "left": null,
       "margin": null,
       "max_height": null,
       "max_width": null,
       "min_height": null,
       "min_width": null,
       "object_fit": null,
       "object_position": null,
       "order": null,
       "overflow": null,
       "overflow_x": null,
       "overflow_y": null,
       "padding": null,
       "right": null,
       "top": null,
       "visibility": null,
       "width": null
      }
     },
     "c3840b0ac57f4f1a8edd67315cf819fb": {
      "model_module": "@jupyter-widgets/controls",
      "model_module_version": "1.5.0",
      "model_name": "VBoxModel",
      "state": {
       "_dom_classes": [],
       "_model_module": "@jupyter-widgets/controls",
       "_model_module_version": "1.5.0",
       "_model_name": "VBoxModel",
       "_view_count": null,
       "_view_module": "@jupyter-widgets/controls",
       "_view_module_version": "1.5.0",
       "_view_name": "VBoxView",
       "box_style": "",
       "children": [
        "IPY_MODEL_2dbbbdd64a0847afa5c805fed0dc4f33",
        "IPY_MODEL_debcd6efc5cb47b8a90ce0a9d13eaa67"
       ],
       "layout": "IPY_MODEL_c8ce7e1c20504aeea68b2966c356d3f8"
      }
     },
     "c5e8d43dd1d944208e4c22a39a4a32db": {
      "model_module": "@jupyter-widgets/controls",
      "model_module_version": "1.5.0",
      "model_name": "DescriptionStyleModel",
      "state": {
       "_model_module": "@jupyter-widgets/controls",
       "_model_module_version": "1.5.0",
       "_model_name": "DescriptionStyleModel",
       "_view_count": null,
       "_view_module": "@jupyter-widgets/base",
       "_view_module_version": "1.2.0",
       "_view_name": "StyleView",
       "description_width": ""
      }
     },
     "c8ce7e1c20504aeea68b2966c356d3f8": {
      "model_module": "@jupyter-widgets/base",
      "model_module_version": "1.2.0",
      "model_name": "LayoutModel",
      "state": {
       "_model_module": "@jupyter-widgets/base",
       "_model_module_version": "1.2.0",
       "_model_name": "LayoutModel",
       "_view_count": null,
       "_view_module": "@jupyter-widgets/base",
       "_view_module_version": "1.2.0",
       "_view_name": "LayoutView",
       "align_content": null,
       "align_items": null,
       "align_self": null,
       "border": null,
       "bottom": null,
       "display": null,
       "flex": null,
       "flex_flow": null,
       "grid_area": null,
       "grid_auto_columns": null,
       "grid_auto_flow": null,
       "grid_auto_rows": null,
       "grid_column": null,
       "grid_gap": null,
       "grid_row": null,
       "grid_template_areas": null,
       "grid_template_columns": null,
       "grid_template_rows": null,
       "height": null,
       "justify_content": null,
       "justify_items": null,
       "left": null,
       "margin": null,
       "max_height": null,
       "max_width": null,
       "min_height": null,
       "min_width": null,
       "object_fit": null,
       "object_position": null,
       "order": null,
       "overflow": null,
       "overflow_x": null,
       "overflow_y": null,
       "padding": null,
       "right": null,
       "top": null,
       "visibility": null,
       "width": null
      }
     },
     "cd95c859c0624a758ff543adedd8d669": {
      "model_module": "@jupyter-widgets/base",
      "model_module_version": "1.2.0",
      "model_name": "LayoutModel",
      "state": {
       "_model_module": "@jupyter-widgets/base",
       "_model_module_version": "1.2.0",
       "_model_name": "LayoutModel",
       "_view_count": null,
       "_view_module": "@jupyter-widgets/base",
       "_view_module_version": "1.2.0",
       "_view_name": "LayoutView",
       "align_content": null,
       "align_items": null,
       "align_self": null,
       "border": null,
       "bottom": null,
       "display": null,
       "flex": null,
       "flex_flow": null,
       "grid_area": null,
       "grid_auto_columns": null,
       "grid_auto_flow": null,
       "grid_auto_rows": null,
       "grid_column": null,
       "grid_gap": null,
       "grid_row": null,
       "grid_template_areas": null,
       "grid_template_columns": null,
       "grid_template_rows": null,
       "height": null,
       "justify_content": null,
       "justify_items": null,
       "left": null,
       "margin": null,
       "max_height": null,
       "max_width": null,
       "min_height": null,
       "min_width": null,
       "object_fit": null,
       "object_position": null,
       "order": null,
       "overflow": null,
       "overflow_x": null,
       "overflow_y": null,
       "padding": null,
       "right": null,
       "top": null,
       "visibility": null,
       "width": null
      }
     },
     "debcd6efc5cb47b8a90ce0a9d13eaa67": {
      "model_module": "@jupyter-widgets/controls",
      "model_module_version": "1.5.0",
      "model_name": "FloatProgressModel",
      "state": {
       "_dom_classes": [],
       "_model_module": "@jupyter-widgets/controls",
       "_model_module_version": "1.5.0",
       "_model_name": "FloatProgressModel",
       "_view_count": null,
       "_view_module": "@jupyter-widgets/controls",
       "_view_module_version": "1.5.0",
       "_view_name": "ProgressView",
       "bar_style": "",
       "description": "",
       "description_tooltip": null,
       "layout": "IPY_MODEL_b751aef0484e456ca4ee72f3d4bdd30d",
       "max": 1,
       "min": 0,
       "orientation": "horizontal",
       "style": "IPY_MODEL_ebe92c066b294f228ad5b92ae4dc5102",
       "value": 1
      }
     },
     "dfba90b3b1d544d3818086ad32c438bf": {
      "model_module": "@jupyter-widgets/controls",
      "model_module_version": "1.5.0",
      "model_name": "DescriptionStyleModel",
      "state": {
       "_model_module": "@jupyter-widgets/controls",
       "_model_module_version": "1.5.0",
       "_model_name": "DescriptionStyleModel",
       "_view_count": null,
       "_view_module": "@jupyter-widgets/base",
       "_view_module_version": "1.2.0",
       "_view_name": "StyleView",
       "description_width": ""
      }
     },
     "ebe92c066b294f228ad5b92ae4dc5102": {
      "model_module": "@jupyter-widgets/controls",
      "model_module_version": "1.5.0",
      "model_name": "ProgressStyleModel",
      "state": {
       "_model_module": "@jupyter-widgets/controls",
       "_model_module_version": "1.5.0",
       "_model_name": "ProgressStyleModel",
       "_view_count": null,
       "_view_module": "@jupyter-widgets/base",
       "_view_module_version": "1.2.0",
       "_view_name": "StyleView",
       "bar_color": null,
       "description_width": ""
      }
     }
    },
    "version_major": 2,
    "version_minor": 0
   }
  }
 },
 "nbformat": 4,
 "nbformat_minor": 5
}
